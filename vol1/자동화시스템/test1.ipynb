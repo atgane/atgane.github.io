{
 "metadata": {
  "language_info": {
   "codemirror_mode": {
    "name": "ipython",
    "version": 3
   },
   "file_extension": ".py",
   "mimetype": "text/x-python",
   "name": "python",
   "nbconvert_exporter": "python",
   "pygments_lexer": "ipython3",
   "version": "3.7.6-final"
  },
  "orig_nbformat": 2,
  "kernelspec": {
   "name": "python3",
   "display_name": "Python 3",
   "language": "python"
  }
 },
 "nbformat": 4,
 "nbformat_minor": 2,
 "cells": [
  {
   "cell_type": "code",
   "execution_count": 1,
   "metadata": {},
   "outputs": [],
   "source": [
    "import sys\n",
    "sys.setrecursionlimit(1000000)\n",
    "num = int(input())\n",
    "\n",
    "pap = [[' ' for i in range(num)] for _ in range(num)]\n",
    "\n",
    "def dr(x, y, n):\n",
    "    if n == 0:\n",
    "        pap[x][y] = \"*\"\n",
    "    a = 3 ** (n - 1)\n",
    "    dr(x, y, n - 1)\n",
    "    dr(x, y + a, n - 1)\n",
    "    dr(x, y + a * 2, n - 1)\n",
    "    dr(x + a, y, n - 1)\n",
    "    dr(x + a, y + a * 2, n - 1)\n",
    "    dr(x + a * 2, y, n - 1)\n",
    "    dr(x + a * 2, y + a, n - 1)\n",
    "    dr(x + a * 2, y + a * 2, n -1)\n",
    "\n",
    "n = 0\n",
    "while 3 ** n != num:\n",
    "    n += 1\n",
    "print(n)\n",
    "\n",
    "dr(0, 0, n)"
   ]
  },
  {
   "cell_type": "code",
   "execution_count": null,
   "metadata": {},
   "outputs": [],
   "source": []
  },
  {
   "cell_type": "code",
   "execution_count": 11,
   "metadata": {},
   "outputs": [],
   "source": [
    "n = 3\n",
    "\n",
    "dohwaji = [[' 'for i in range(n)] for _ in range(n)]"
   ]
  },
  {
   "cell_type": "code",
   "execution_count": 12,
   "metadata": {},
   "outputs": [
    {
     "output_type": "execute_result",
     "data": {
      "text/plain": [
       "[[' ', ' ', ' '], [' ', ' ', ' '], [' ', ' ', ' ']]"
      ]
     },
     "metadata": {},
     "execution_count": 12
    }
   ],
   "source": [
    "dohwaji"
   ]
  },
  {
   "cell_type": "code",
   "execution_count": null,
   "metadata": {},
   "outputs": [],
   "source": []
  }
 ]
}