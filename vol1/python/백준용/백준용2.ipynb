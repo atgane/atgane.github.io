{
 "metadata": {
  "language_info": {
   "codemirror_mode": {
    "name": "ipython",
    "version": 3
   },
   "file_extension": ".py",
   "mimetype": "text/x-python",
   "name": "python",
   "nbconvert_exporter": "python",
   "pygments_lexer": "ipython3",
   "version": "3.7.6-final"
  },
  "orig_nbformat": 2,
  "kernelspec": {
   "name": "python3",
   "display_name": "Python 3",
   "language": "python"
  }
 },
 "nbformat": 4,
 "nbformat_minor": 2,
 "cells": [
  {
   "cell_type": "code",
   "execution_count": 13,
   "metadata": {},
   "outputs": [],
   "source": [
    "n, k = list(map(int, input().split()))\n",
    "inp_list = []\n",
    "memo_list = [[0 for col in range(k + 1)] for row in range(n + 1)]\n",
    "for i in range(n):\n",
    "    tmp_list = list(map(int, input().split()))\n",
    "    inp_list.append(tmp_list)\n",
    "\n",
    "for i in range(1, n + 1):\n",
    "    for j in range(1, k + 1):\n",
    "        if j - inp_list[i][0] = :"
   ]
  },
  {
   "cell_type": "code",
   "execution_count": 14,
   "metadata": {},
   "outputs": [
    {
     "output_type": "execute_result",
     "data": {
      "text/plain": [
       "[[0, 0, 0, 0, 0, 0, 0, 0, 0, 0, 0],\n",
       " [0, 0, 0, 0, 0, 0, 0, 0, 0, 0, 0],\n",
       " [0, 0, 0, 0, 0, 0, 0, 0, 0, 0, 0],\n",
       " [0, 0, 0, 0, 0, 0, 0, 0, 0, 0, 0]]"
      ]
     },
     "metadata": {},
     "execution_count": 14
    }
   ],
   "source": [
    "memo_list"
   ]
  },
  {
   "cell_type": "code",
   "execution_count": 9,
   "metadata": {},
   "outputs": [],
   "source": [
    "\n",
    "for i in range(n):\n",
    "    for j in range(k):"
   ]
  },
  {
   "source": [
    "memo_list"
   ],
   "cell_type": "code",
   "metadata": {},
   "execution_count": 10,
   "outputs": [
    {
     "output_type": "execute_result",
     "data": {
      "text/plain": [
       "[[0, 0], [0, 0], [0, 0]]"
      ]
     },
     "metadata": {},
     "execution_count": 10
    }
   ]
  },
  {
   "cell_type": "code",
   "execution_count": 164,
   "metadata": {},
   "outputs": [],
   "source": [
    "class heap:\n",
    "    def __init__(self):\n",
    "        self.data = []\n",
    "    def insert(self, ins):\n",
    "        if len(self.data) == 0:\n",
    "            self.data.append(ins)\n",
    "        else:\n",
    "            self.data = [ins] + self.data\n",
    "            cur = len(self.data)\n",
    "            while cur != 1:\n",
    "                if self.data[-cur] > self.data[-(cur // 2)]:\n",
    "                    self.data[-cur], self.data[-(cur // 2)] = self.data[-(cur // 2)], self.data[-cur]\n",
    "                    cur = cur // 2\n",
    "                else:\n",
    "                    break\n",
    "                \n",
    "    def pop(self):\n",
    "        ret = self.data.pop()\n",
    "        if len(self.data) > 0:\n",
    "            self.data.append(self.data[0])\n",
    "            self.data = self.data[1:]\n",
    "            cur = 1\n",
    "            while True:\n",
    "                if cur * 2 + 1 <= len(self.data):\n",
    "                    if self.data[-cur] <= self.data[-(cur * 2 + 1)] and self.data[-(cur * 2)] <= self.data[-(cur * 2 + 1)]:\n",
    "                        self.data[-cur], self.data[-(cur * 2 + 1)] = self.data[-(cur * 2 + 1)], self.data[-cur]\n",
    "                        cur = cur * 2 + 1\n",
    "                    elif self.data[-cur] <= self.data[-(cur * 2)] and self.data[-(cur * 2 + 1)] <= self.data[-(cur * 2)]:\n",
    "                        self.data[-cur], self.data[-(cur * 2)] = self.data[-(cur * 2)], self.data[-cur]\n",
    "                        cur = cur * 2\n",
    "                    else:\n",
    "                        break\n",
    "                elif cur * 2 <= len(self.data):\n",
    "                    if self.data[-cur] < self.data[-(cur * 2)]:\n",
    "                        self.data[-cur], self.data[-(cur * 2)] = self.data[-(cur * 2)], self.data[-cur]\n",
    "                        cur = cur * 2\n",
    "                    else:\n",
    "                        break\n",
    "                else:\n",
    "                    break\n",
    "        return ret\n",
    "\n",
    "def heap_sort(arr):\n",
    "    ret = []\n",
    "    h = heap()\n",
    "    for i in arr:\n",
    "        h.insert(i)\n",
    "    for _ in range(len(h.data)):\n",
    "        ret = [h.pop()] + ret\n",
    "    return ret\n",
    "\n",
    "n = int(input()); list1 = []; [list1.append(int(input())) for i in range(n)]; [print(i) for i in heap_sort(list1)];"
   ]
  },
  {
   "cell_type": "code",
   "execution_count": 169,
   "metadata": {},
   "outputs": [],
   "source": [
    "import heapq\n",
    "\n",
    "def heap_sort(arr):\n",
    "    heap = []\n",
    "    ret = []\n",
    "    for i in arr:\n",
    "        heapq.heappush(heap, i)\n",
    "\n",
    "    for _ in range(len(arr)):\n",
    "        ret.append(heapq.heappop(heap))\n",
    "    return ret\n",
    "\n",
    "n = int(input()); list1 = []; [list1.append(int(input())) for i in range(n)]; [print(i) for i in heap_sort(list1)];"
   ]
  },
  {
   "cell_type": "code",
   "execution_count": 11,
   "metadata": {},
   "outputs": [],
   "source": [
    "def quick_sort(arr):\n",
    "    if len(arr) <= 1:\n",
    "        return arr\n",
    "    else:\n",
    "        pv = arr[len(arr) // 2]\n",
    "        low = []\n",
    "        high = []\n",
    "        eq = []\n",
    "        for i in arr:\n",
    "            if i < pv:\n",
    "                low.append(i)\n",
    "            elif i > pv:\n",
    "                high.append(i)\n",
    "            else:\n",
    "                eq.append(i)\n",
    "        return quick_sort(low) + eq + quick_sort(high)"
   ]
  },
  {
   "cell_type": "code",
   "execution_count": 12,
   "metadata": {},
   "outputs": [
    {
     "output_type": "error",
     "ename": "ValueError",
     "evalue": "invalid literal for int() with base 10: ''",
     "traceback": [
      "\u001b[1;31m---------------------------------------------------------------------------\u001b[0m",
      "\u001b[1;31mValueError\u001b[0m                                Traceback (most recent call last)",
      "\u001b[1;32m<ipython-input-12-3339cbb2c31d>\u001b[0m in \u001b[0;36m<module>\u001b[1;34m\u001b[0m\n\u001b[0;32m     52\u001b[0m     \u001b[1;32mreturn\u001b[0m \u001b[0mret\u001b[0m\u001b[1;33m\u001b[0m\u001b[1;33m\u001b[0m\u001b[0m\n\u001b[0;32m     53\u001b[0m \u001b[1;33m\u001b[0m\u001b[0m\n\u001b[1;32m---> 54\u001b[1;33m \u001b[0mn\u001b[0m \u001b[1;33m=\u001b[0m \u001b[0mint\u001b[0m\u001b[1;33m(\u001b[0m\u001b[0msys\u001b[0m\u001b[1;33m.\u001b[0m\u001b[0mstdin\u001b[0m\u001b[1;33m.\u001b[0m\u001b[0mreadline\u001b[0m\u001b[1;33m(\u001b[0m\u001b[1;33m)\u001b[0m\u001b[1;33m)\u001b[0m\u001b[1;33m\u001b[0m\u001b[1;33m\u001b[0m\u001b[0m\n\u001b[0m\u001b[0;32m     55\u001b[0m \u001b[0mn\u001b[0m \u001b[1;33m=\u001b[0m \u001b[0mint\u001b[0m\u001b[1;33m(\u001b[0m\u001b[0minput\u001b[0m\u001b[1;33m(\u001b[0m\u001b[1;33m)\u001b[0m\u001b[1;33m)\u001b[0m\u001b[1;33m;\u001b[0m \u001b[0mlist1\u001b[0m \u001b[1;33m=\u001b[0m \u001b[1;33m[\u001b[0m\u001b[1;33m]\u001b[0m\u001b[1;33m;\u001b[0m \u001b[1;33m[\u001b[0m\u001b[0mlist1\u001b[0m\u001b[1;33m.\u001b[0m\u001b[0mappend\u001b[0m\u001b[1;33m(\u001b[0m\u001b[0mint\u001b[0m\u001b[1;33m(\u001b[0m\u001b[0minput\u001b[0m\u001b[1;33m(\u001b[0m\u001b[1;33m)\u001b[0m\u001b[1;33m)\u001b[0m\u001b[1;33m)\u001b[0m \u001b[1;32mfor\u001b[0m \u001b[0mi\u001b[0m \u001b[1;32min\u001b[0m \u001b[0mrange\u001b[0m\u001b[1;33m(\u001b[0m\u001b[0mn\u001b[0m\u001b[1;33m)\u001b[0m\u001b[1;33m]\u001b[0m\u001b[1;33m;\u001b[0m \u001b[1;33m[\u001b[0m\u001b[0mprint\u001b[0m\u001b[1;33m(\u001b[0m\u001b[0mi\u001b[0m\u001b[1;33m)\u001b[0m \u001b[1;32mfor\u001b[0m \u001b[0mi\u001b[0m \u001b[1;32min\u001b[0m \u001b[0mheap_sort\u001b[0m\u001b[1;33m(\u001b[0m\u001b[0mlist1\u001b[0m\u001b[1;33m)\u001b[0m\u001b[1;33m]\u001b[0m\u001b[1;33m;\u001b[0m\u001b[1;33m\u001b[0m\u001b[1;33m\u001b[0m\u001b[0m\n",
      "\u001b[1;31mValueError\u001b[0m: invalid literal for int() with base 10: ''"
     ]
    }
   ],
   "source": [
    "import sys\n",
    "\n",
    "class heap:\n",
    "    def __init__(self):\n",
    "        self.data = []\n",
    "    def insert(self, ins):\n",
    "        if len(self.data) == 0:\n",
    "            self.data.append(ins)\n",
    "        else:\n",
    "            self.data = [ins] + self.data\n",
    "            cur = len(self.data)\n",
    "            while cur != 1:\n",
    "                if self.data[-cur] > self.data[-(cur // 2)]:\n",
    "                    self.data[-cur], self.data[-(cur // 2)] = self.data[-(cur // 2)], self.data[-cur]\n",
    "                    cur = cur // 2\n",
    "                else:\n",
    "                    break\n",
    "                \n",
    "    def pop(self):\n",
    "        ret = self.data.pop()\n",
    "        if len(self.data) > 0:\n",
    "            self.data.append(self.data[0])\n",
    "            self.data = self.data[1:]\n",
    "            cur = 1\n",
    "            while True:\n",
    "                if cur * 2 + 1 <= len(self.data):\n",
    "                    if self.data[-cur] <= self.data[-(cur * 2 + 1)] and self.data[-(cur * 2)] <= self.data[-(cur * 2 + 1)]:\n",
    "                        self.data[-cur], self.data[-(cur * 2 + 1)] = self.data[-(cur * 2 + 1)], self.data[-cur]\n",
    "                        cur = cur * 2 + 1\n",
    "                    elif self.data[-cur] <= self.data[-(cur * 2)] and self.data[-(cur * 2 + 1)] <= self.data[-(cur * 2)]:\n",
    "                        self.data[-cur], self.data[-(cur * 2)] = self.data[-(cur * 2)], self.data[-cur]\n",
    "                        cur = cur * 2\n",
    "                    else:\n",
    "                        break\n",
    "                elif cur * 2 <= len(self.data):\n",
    "                    if self.data[-cur] < self.data[-(cur * 2)]:\n",
    "                        self.data[-cur], self.data[-(cur * 2)] = self.data[-(cur * 2)], self.data[-cur]\n",
    "                        cur = cur * 2\n",
    "                    else:\n",
    "                        break\n",
    "                else:\n",
    "                    break\n",
    "        return ret\n",
    "\n",
    "def heap_sort(arr):\n",
    "    ret = []\n",
    "    h = heap()\n",
    "    for i in arr:\n",
    "        h.insert(i)\n",
    "    for _ in range(len(h.data)):\n",
    "        ret = [h.pop()] + ret\n",
    "    return ret\n",
    "\n",
    "n = int(sys.stdin.readline())\n",
    "arr = []\n",
    "for i in range(n):\n",
    "    arr.append(sys.stdin.readline())\n",
    "\n",
    "for i in heap_sort(arr):\n",
    "    print(i)"
   ]
  },
  {
   "cell_type": "code",
   "execution_count": 13,
   "metadata": {},
   "outputs": [
    {
     "output_type": "stream",
     "name": "stdout",
     "text": [
      "[1, 2, 2, 2, 2, 2, 2, 2, 3, 4, 5, 6, 7, 8, 9, 10]\n"
     ]
    }
   ],
   "source": [
    "import sys\n",
    "\n",
    "def merge_sort(arr):\n",
    "    def divide(_arr):\n",
    "        n = len(_arr)\n",
    "        if n == 1:\n",
    "            return _arr\n",
    "        else:\n",
    "            return [divide(_arr[:n // 2 + n % 2]), divide(_arr[n // 2 + n % 2:])]\n",
    "    \n",
    "    def conquer(_arr):\n",
    "        if len(_arr) == 1:\n",
    "            return _arr\n",
    "        elif len(_arr) == 2 and type(_arr[0][0]) == int:\n",
    "            i, j = 0, 0\n",
    "            ret = []\n",
    "            while (i < len(_arr[0])) and (j < len(_arr[1])):\n",
    "                if _arr[0][i] < _arr[1][j]:\n",
    "                    ret.append(_arr[0][i]); i += 1\n",
    "                else:\n",
    "                    ret.append(_arr[1][j]); j += 1\n",
    "            while i < len(_arr[0]):\n",
    "                ret.append(_arr[0][i]); i += 1\n",
    "            while j < len(_arr[1]):\n",
    "                ret.append(_arr[1][j]); j += 1\n",
    "            return ret\n",
    "        else:\n",
    "            return conquer([conquer(_arr[0]), conquer(_arr[1])])\n",
    "    arr = divide(arr)\n",
    "    arr = conquer(arr)\n",
    "    return arr\n",
    "\n",
    "n = int(sys.stdin.readline())\n",
    "arr = []\n",
    "for i in range(n):\n",
    "    arr.append(int(sys.stdin.readline()))\n",
    "\n",
    "for i in merge_sort(arr):\n",
    "    print(i)"
   ]
  },
  {
   "cell_type": "code",
   "execution_count": null,
   "metadata": {},
   "outputs": [],
   "source": [
    "def quick_sort(arr):\n",
    "    arr = [arr]\n",
    "    ret = []\n",
    "    def divide(_arr):\n",
    "        if len(_arr[0]) <= 1:\n",
    "            return _arr\n",
    "        else:\n",
    "            pv = _arr[0][]"
   ]
  },
  {
   "cell_type": "code",
   "execution_count": 18,
   "metadata": {},
   "outputs": [],
   "source": [
    "import sys\n",
    "\n",
    "def counting_sort(arr):\n",
    "    ret = []\n",
    "    st = 1; end = 10000 #최소 원소, 최대 원소\n",
    "    count_table = []\n",
    "    for i in range(st, end + 1):\n",
    "        for j in arr:\n",
    "            if i == j:\n",
    "                ret.append(i)\n",
    "    return ret\n",
    "\n",
    "n = int(sys.stdin.readline())\n",
    "arr = []\n",
    "for i in range(n):\n",
    "    arr.append(int(sys.stdin.readline()))\n",
    "\n",
    "for i in counting_sort(arr):\n",
    "    print(i)"
   ]
  },
  {
   "cell_type": "code",
   "execution_count": 27,
   "metadata": {},
   "outputs": [
    {
     "output_type": "stream",
     "name": "stdout",
     "text": [
      "1\n2\n3\n"
     ]
    }
   ],
   "source": [
    "import sys\n",
    "n = int(sys.stdin.readline())\n",
    "c = [0] * 10001\n",
    "for _ in range(n):\n",
    "    c[int(sys.stdin.readline())] += 1\n",
    "for i in range(10001):\n",
    "    [print(i + 1) for _ in range(c[i])]"
   ]
  },
  {
   "cell_type": "code",
   "execution_count": 20,
   "metadata": {},
   "outputs": [
    {
     "output_type": "stream",
     "name": "stdout",
     "text": [
      "[None]\n"
     ]
    }
   ],
   "source": [
    "import sys\n",
    "a = int(sys.stdin.readline())\n",
    "c = [0] * 10001\n",
    "\n",
    "for i in range(a):\n",
    "    c[int(sys.stdin.readline())] += 1\n",
    "\n",
    "for i in range(10001):\n",
    "    if c[i] != 0:\n",
    "        print('%s\\n' % i * c[i], end=\"\")"
   ]
  },
  {
   "cell_type": "code",
   "execution_count": 6,
   "metadata": {},
   "outputs": [
    {
     "output_type": "error",
     "ename": "ValueError",
     "evalue": "invalid literal for int() with base 10: ''",
     "traceback": [
      "\u001b[1;31m---------------------------------------------------------------------------\u001b[0m",
      "\u001b[1;31mValueError\u001b[0m                                Traceback (most recent call last)",
      "\u001b[1;32m<ipython-input-6-5613223b381e>\u001b[0m in \u001b[0;36m<module>\u001b[1;34m\u001b[0m\n\u001b[0;32m      2\u001b[0m \u001b[1;32mfrom\u001b[0m \u001b[0mcollections\u001b[0m \u001b[1;32mimport\u001b[0m \u001b[0mCounter\u001b[0m\u001b[1;33m\u001b[0m\u001b[1;33m\u001b[0m\u001b[0m\n\u001b[0;32m      3\u001b[0m \u001b[1;33m\u001b[0m\u001b[0m\n\u001b[1;32m----> 4\u001b[1;33m \u001b[0mn\u001b[0m \u001b[1;33m=\u001b[0m \u001b[0mint\u001b[0m\u001b[1;33m(\u001b[0m\u001b[0msys\u001b[0m\u001b[1;33m.\u001b[0m\u001b[0mstdin\u001b[0m\u001b[1;33m.\u001b[0m\u001b[0mreadline\u001b[0m\u001b[1;33m(\u001b[0m\u001b[1;33m)\u001b[0m\u001b[1;33m)\u001b[0m\u001b[1;33m\u001b[0m\u001b[1;33m\u001b[0m\u001b[0m\n\u001b[0m\u001b[0;32m      5\u001b[0m \u001b[0marr\u001b[0m \u001b[1;33m=\u001b[0m \u001b[1;33m[\u001b[0m\u001b[1;33m]\u001b[0m\u001b[1;33m\u001b[0m\u001b[1;33m\u001b[0m\u001b[0m\n\u001b[0;32m      6\u001b[0m \u001b[1;32mfor\u001b[0m \u001b[0mi\u001b[0m \u001b[1;32min\u001b[0m \u001b[0mrange\u001b[0m\u001b[1;33m(\u001b[0m\u001b[0mn\u001b[0m\u001b[1;33m)\u001b[0m\u001b[1;33m:\u001b[0m\u001b[1;33m\u001b[0m\u001b[1;33m\u001b[0m\u001b[0m\n",
      "\u001b[1;31mValueError\u001b[0m: invalid literal for int() with base 10: ''"
     ]
    }
   ],
   "source": [
    "import sys\n",
    "from collections import Counter\n",
    "\n",
    "n = int(sys.stdin.readline())\n",
    "arr = []\n",
    "for i in range(n):\n",
    "    arr.append(int(sys.stdin.readline()))\n",
    "arr.sort()\n",
    "ave = round(sum(arr) / len(arr))\n",
    "mid = arr[len(arr) // 2]\n",
    "cu = Counter(arr).most_common()\n",
    "mod = arr[0] if len(arr) == 1 else (cu[1][0] if cu[0][1] == cu[1][1] else cu[0][0])\n",
    "ran = max(arr) - min(arr)\n",
    "\n",
    "print(ave)\n",
    "print(mid)\n",
    "print(mod)\n",
    "print(ran)"
   ]
  },
  {
   "cell_type": "code",
   "execution_count": 10,
   "metadata": {},
   "outputs": [
    {
     "output_type": "stream",
     "name": "stdout",
     "text": [
      "1 2\n2 1\n2 2\n"
     ]
    }
   ],
   "source": [
    "import sys\n",
    "n = int(input())\n",
    "data = []\n",
    "for i in range(n):\n",
    "    data.append(list(map(int, input().split())))\n",
    "\n",
    "data = sorted(sorted(data, key=lambda k: k[0]), key=lambda k: k[1])\n",
    "for i in data:\n",
    "    print(i[0], i[1])"
   ]
  },
  {
   "cell_type": "code",
   "execution_count": 27,
   "metadata": {},
   "outputs": [
    {
     "output_type": "stream",
     "name": "stdout",
     "text": [
      "13\n",
      "['but', 'i', 'wont', 'hesitate', 'no', 'more', 'it', 'cannot', 'wait', 'im', 'yours']\n",
      "i\n",
      "im\n",
      "it\n",
      "no\n",
      "but\n",
      "more\n",
      "wait\n",
      "wont\n",
      "yours\n",
      "cannot\n",
      "hesitate\n"
     ]
    }
   ],
   "source": [
    "import sys\n",
    "n = int(sys.stdin.readline())\n",
    "data = []\n",
    "for i in range(n):\n",
    "    s = sys.stdin.readline()\n",
    "    if s not in data:\n",
    "        data.append(s)\n",
    "data = sorted(sorted(data), key=lambda k: len(k))\n",
    "for i in data:\n",
    "    print(i)"
   ]
  },
  {
   "cell_type": "code",
   "execution_count": 20,
   "metadata": {},
   "outputs": [
    {
     "output_type": "execute_result",
     "data": {
      "text/plain": [
       "['as', 'asdsd', 'asdasd']"
      ]
     },
     "metadata": {},
     "execution_count": 20
    }
   ],
   "source": [
    "sorted(['asdsd', 'asdasd', 'as'], key=lambda k: len(k))"
   ]
  },
  {
   "cell_type": "code",
   "execution_count": 90,
   "metadata": {},
   "outputs": [
    {
     "output_type": "error",
     "ename": "TypeError",
     "evalue": "generator() missing 1 required positional argument: 'n'",
     "traceback": [
      "\u001b[1;31m---------------------------------------------------------------------------\u001b[0m",
      "\u001b[1;31mTypeError\u001b[0m                                 Traceback (most recent call last)",
      "\u001b[1;32m<ipython-input-90-635f632627d0>\u001b[0m in \u001b[0;36m<module>\u001b[1;34m\u001b[0m\n\u001b[0;32m     12\u001b[0m     \u001b[1;32mreturn\u001b[0m \u001b[0mret\u001b[0m\u001b[1;33m\u001b[0m\u001b[1;33m\u001b[0m\u001b[0m\n\u001b[0;32m     13\u001b[0m \u001b[1;33m\u001b[0m\u001b[0m\n\u001b[1;32m---> 14\u001b[1;33m \u001b[0mgenerator\u001b[0m\u001b[1;33m(\u001b[0m\u001b[1;33m)\u001b[0m\u001b[1;33m\u001b[0m\u001b[1;33m\u001b[0m\u001b[0m\n\u001b[0m",
      "\u001b[1;31mTypeError\u001b[0m: generator() missing 1 required positional argument: 'n'"
     ]
    }
   ],
   "source": [
    "import random\n",
    "import string\n",
    "\n",
    "def generator(n):\n",
    "    ret = []\n",
    "    ret.append(n)\n",
    "    for i in range(n):\n",
    "        s = ''\n",
    "        for j in range(random.randint(1, 30)):\n",
    "            s += random.choice(string.ascii_lowercase)\n",
    "        ret.append(str(random.randint(1, 99)) + ' ' + s)\n",
    "    return ret\n",
    "\n",
    "generator()"
   ]
  },
  {
   "cell_type": "code",
   "execution_count": 91,
   "metadata": {},
   "outputs": [
    {
     "output_type": "stream",
     "name": "stdout",
     "text": [
      "1 j\n2 fxvamxzlcmza\n3 igaigmlvehidjpgsxloyuadcz\n5 fhfrhhphfumljxqupsnhr\n10 jiaetuoflmkqocbzeomqdguouv\n13 wdm\n19 ws\n25 tfjhd\n26 pwwmyrjdqmcbgweaevptdcmfid\n28 rdepgvplgbmaajyymhrrgsudx\n29 estfylzbirbnrrvepgvomri\n29 fiikfyfmxifwdah\n38 mtcu\n39 ysjdpdxwvupaxywobthkakgiyiee\n42 lf\n47 blsvjjtyv\n49 eybdgufqhwxpvquokkun\n51 twlzhyyizdiajtjo\n54 bsgnprayjdigcr\n62 tpecvnlnwqjmwkbywr\n65 yvwzzytprq\n71 ccxnjlvmxxgzvjksuanigvcbxar\n71 itfiwso\n72 aqbny\n75 xe\n78 xcflaaruekrwb\n81 bhaerlcifltubwyxahqxwpo\n88 lkqnkcgvazwdaexrkalymjv\n90 u\n98 awbntaofwdutzbchkfqfduwbizda\n"
     ]
    }
   ],
   "source": [
    "g = generator(30)\n",
    "#n = int(input())\n",
    "n = g[0]\n",
    "data = []\n",
    "for i in range(n):\n",
    "    #data.append(input().split())\n",
    "    data.append([i] + g[i + 1].split())\n",
    "data = sorted(sorted(data, key=lambda k: k[0]), key=lambda k: int(k[1]))\n",
    "for i in range(len(data)):\n",
    "    print(data[i][1], data[i][2])"
   ]
  },
  {
   "cell_type": "code",
   "execution_count": 92,
   "metadata": {},
   "outputs": [
    {
     "output_type": "stream",
     "name": "stdout",
     "text": [
      "True\nTrue\nTrue\nTrue\nTrue\nTrue\nTrue\nTrue\nTrue\nTrue\nTrue\nTrue\nTrue\nTrue\nTrue\nTrue\nTrue\nTrue\nTrue\nTrue\nTrue\nTrue\nTrue\nTrue\nTrue\nTrue\nTrue\nTrue\nTrue\nTrue\n"
     ]
    }
   ],
   "source": [
    "\n",
    "n = int(g[0])\n",
    "member = []\n",
    "for i in range(n):\n",
    "    member.append(list(g[i + 1].split()))\n",
    "member.sort(key=lambda x: int(x[0]))\n",
    "for i in range(n):\n",
    "    print((member[i][0], member[i][1]) == (data[i][1], data[i][2]))"
   ]
  },
  {
   "cell_type": "code",
   "execution_count": null,
   "metadata": {},
   "outputs": [],
   "source": [
    "import sys\n",
    "n = int(sys.stdin.readline())\n",
    "data = []\n",
    "for i in range(n):\n",
    "    data.append([i] + sys.stdin.readline().split())\n",
    "data = sorted(sorted(data, key=lambda k: k[0]), key=lambda k: int(k[1]))\n",
    "for i in range(len(data)):\n",
    "    print(data[i][1], data[i][2])"
   ]
  },
  {
   "cell_type": "code",
   "execution_count": 1,
   "metadata": {},
   "outputs": [
    {
     "output_type": "stream",
     "name": "stdout",
     "text": [
      "32\n"
     ]
    }
   ],
   "source": [
    "n = int(input())\n",
    "dp = [[0 for i in range(10)] for j in range(101)]\n",
    "for i in range(1, 10):\n",
    "    dp[1][i] = 1\n",
    "for i in range(2, n + 1):\n",
    "    for j in range(10):\n",
    "        if j == 0:\n",
    "            dp[i][j] = dp[i - 1][1]\n",
    "        elif j == 9:\n",
    "            dp[i][j] = dp[i - 1][8]\n",
    "        else:\n",
    "            dp[i][j] = dp[i - 1][j - 1] + dp[i - 1][j + 1]\n",
    "print(sum(dp[n]) % 1000000000)"
   ]
  },
  {
   "cell_type": "code",
   "execution_count": 2,
   "metadata": {},
   "outputs": [
    {
     "output_type": "execute_result",
     "data": {
      "text/plain": [
       "[0, 1]"
      ]
     },
     "metadata": {},
     "execution_count": 2
    }
   ],
   "source": [
    "from collections import deque\n",
    "\n",
    "#n = int(input())\n",
    "#m = [-1] * n\n",
    "\n",
    "def check(y):\n",
    "    ret2 = []\n",
    "    for i in range(y):\n",
    "        for j in range(n):\n",
    "            if (m[i] == j or m[i] + i == j + y or m[i] - i == j - y) and j not in ret2:\n",
    "                ret2.append(j)\n",
    "    ret1 = []\n",
    "    for i in range(n):\n",
    "        if i not in ret2:\n",
    "            ret1.append(i)\n",
    "    return ret1\n",
    "\n",
    "def count(y):\n",
    "    global c\n",
    "    d = deque(check(y))\n",
    "    b = len(d)\n",
    "    if b == 0:\n",
    "        if m[-1] != -1:\n",
    "            c += 1\n",
    "        m[y - 1] = -1\n",
    "    else:\n",
    "        for i in range(b):\n",
    "            m[y] = d.popleft()\n",
    "            count(y + 1)\n",
    "\n",
    "\"\"\"n = 13\n",
    "m = [-1] * n\n",
    "c = 0\n",
    "\n",
    "count(0)\n",
    "print(c)\"\"\"\n",
    "\n",
    "n = 2\n",
    "m = [0, - 1]\n",
    "check(0)"
   ]
  },
  {
   "cell_type": "code",
   "execution_count": 18,
   "metadata": {},
   "outputs": [
    {
     "output_type": "stream",
     "name": "stdout",
     "text": [
      "2\n"
     ]
    }
   ],
   "source": [
    "from itertools import combinations, permutations\n",
    "\n",
    "n = int(input())\n",
    "arr = []\n",
    "for i in range(n):\n",
    "    arr.append(list(map(int, input().split())))\n",
    "com_seed = list(range(0, n))\n",
    "com_list = list(combinations(com_seed, n // 2))\n",
    "\n",
    "diff = []\n",
    "for i in range(len(com_list)):\n",
    "    g1 = 0; g2 = 0\n",
    "    per1 = list(permutations(com_list[i], 2))\n",
    "    per2 = list(permutations(com_list[-i - 1], 2))\n",
    "    for j in per1:\n",
    "        g1 += arr[j[0]][j[1]]\n",
    "    for j in per2:\n",
    "        g2 += arr[j[0]][j[1]]\n",
    "    diff.append(abs(g1- g2))\n",
    "print(min(diff))"
   ]
  },
  {
   "cell_type": "code",
   "execution_count": 14,
   "metadata": {},
   "outputs": [
    {
     "output_type": "stream",
     "name": "stdout",
     "text": [
      "[[0, 1, 2, 3, 4, 5], [1, 0, 2, 3, 4, 5], [1, 2, 0, 3, 4, 5], [1, 2, 3, 0, 4, 5], [1, 2, 3, 4, 0, 5], [1, 2, 3, 4, 5, 0]]\n"
     ]
    }
   ],
   "source": [
    "print(arr)"
   ]
  },
  {
   "cell_type": "code",
   "execution_count": 16,
   "metadata": {},
   "outputs": [
    {
     "output_type": "execute_result",
     "data": {
      "text/plain": [
       "[(0, 1, 2),\n",
       " (0, 1, 3),\n",
       " (0, 1, 4),\n",
       " (0, 1, 5),\n",
       " (0, 2, 3),\n",
       " (0, 2, 4),\n",
       " (0, 2, 5),\n",
       " (0, 3, 4),\n",
       " (0, 3, 5),\n",
       " (0, 4, 5),\n",
       " (1, 2, 3),\n",
       " (1, 2, 4),\n",
       " (1, 2, 5),\n",
       " (1, 3, 4),\n",
       " (1, 3, 5),\n",
       " (1, 4, 5),\n",
       " (2, 3, 4),\n",
       " (2, 3, 5),\n",
       " (2, 4, 5),\n",
       " (3, 4, 5)]"
      ]
     },
     "metadata": {},
     "execution_count": 16
    }
   ],
   "source": [
    "com_list"
   ]
  },
  {
   "cell_type": "code",
   "execution_count": 3,
   "metadata": {},
   "outputs": [
    {
     "output_type": "stream",
     "name": "stdout",
     "text": [
      "1999999999999999999999999999999999999999999999999999999999999999999999999999999999999998\n"
     ]
    }
   ],
   "source": [
    "a = int(input())\n",
    "b = int(input())\n",
    "print(a + b)"
   ]
  },
  {
   "cell_type": "code",
   "execution_count": 4,
   "metadata": {},
   "outputs": [
    {
     "output_type": "stream",
     "name": "stdout",
     "text": [
      "18446744073709551615\n"
     ]
    }
   ],
   "source": [
    "a, b = list(map(int, input().split()))\n",
    "print(a + b)"
   ]
  },
  {
   "cell_type": "code",
   "execution_count": 7,
   "metadata": {
    "tags": []
   },
   "outputs": [],
   "source": [
    "a = int(input())\n",
    "i = 2\n",
    "while a != 1:\n",
    "    if a % i == 0:\n",
    "        a = a / i\n",
    "        print(i)\n",
    "    else:\n",
    "        i += 1"
   ]
  },
  {
   "cell_type": "code",
   "execution_count": 23,
   "metadata": {},
   "outputs": [
    {
     "output_type": "stream",
     "name": "stdout",
     "text": [
      "11\n"
     ]
    }
   ],
   "source": [
    "import sys\n",
    "\n",
    "s = sys.stdin.readline()\n",
    "a = len(s)\n",
    "\n",
    "l1 = 0\n",
    "\n",
    "f = False\n",
    "for i in range(a):\n",
    "    if s[i] != s[0]:\n",
    "        f = True\n",
    "        break\n",
    "\n",
    "if f:\n",
    "    for i in range(a):\n",
    "        for j in range(a - i):\n",
    "            sub_s = s[i:a - j]\n",
    "            flag = False\n",
    "            if a - i - j > l1:\n",
    "                for k in range(len(sub_s)):\n",
    "                    if sub_s[k] != sub_s[-k - 1]:\n",
    "                        flag = True\n",
    "                        break\n",
    "                if flag == True:\n",
    "                    l1 = len(sub_s)\n",
    "\n",
    "if l1 == 0:\n",
    "    print(-1)\n",
    "else:\n",
    "    print(l1)"
   ]
  },
  {
   "cell_type": "code",
   "execution_count": 17,
   "metadata": {},
   "outputs": [
    {
     "output_type": "stream",
     "name": "stdout",
     "text": [
      "\n"
     ]
    }
   ],
   "source": []
  },
  {
   "cell_type": "code",
   "execution_count": 27,
   "metadata": {},
   "outputs": [],
   "source": [
    "def palin1(s):\n",
    "    a = len(s)\n",
    "\n",
    "    l1 = 0\n",
    "\n",
    "    f = False\n",
    "    for i in range(a):\n",
    "        if s[i] != s[0]:\n",
    "            f = True\n",
    "            break\n",
    "\n",
    "    if f:\n",
    "        for i in range(a):\n",
    "            for j in range(a - i):\n",
    "                sub_s = s[i:a - j]\n",
    "                flag = False\n",
    "                if a - i - j > l1:\n",
    "                    for k in range(len(sub_s)):\n",
    "                        if sub_s[k] != sub_s[-k - 1]:\n",
    "                            flag = True\n",
    "                            break\n",
    "                    if flag == True:\n",
    "                        l1 = len(sub_s)\n",
    "\n",
    "    if l1 == 0:\n",
    "        return -1\n",
    "    else:\n",
    "        return l1"
   ]
  },
  {
   "cell_type": "code",
   "execution_count": 26,
   "metadata": {},
   "outputs": [
    {
     "output_type": "execute_result",
     "data": {
      "text/plain": [
       "4"
      ]
     },
     "metadata": {},
     "execution_count": 26
    }
   ],
   "source": [
    "palin1('asdf')"
   ]
  },
  {
   "cell_type": "code",
   "execution_count": 48,
   "metadata": {},
   "outputs": [
    {
     "output_type": "stream",
     "name": "stdout",
     "text": [
      "3\n"
     ]
    }
   ],
   "source": [
    "def palin2(s):\n",
    "    a = len(s)\n",
    "    f = False\n",
    "    l1 = 0\n",
    "    for i in range(a):\n",
    "        if s[i] != s[0]:\n",
    "            f = True\n",
    "            break\n",
    "    if f:\n",
    "        break_flag = False\n",
    "        for i in range(a):\n",
    "            if s[i] != s[a - 1 - i]:\n",
    "                l1 = a\n",
    "                break_flag = True\n",
    "                break\n",
    "        if break_flag:\n",
    "            l1 = a\n",
    "        else:\n",
    "            l1 = a - 1\n",
    "    if l1 == 0:\n",
    "        return -1\n",
    "    return l1\n",
    "\n",
    "s = input()\n",
    "print(palin2(s))"
   ]
  },
  {
   "cell_type": "code",
   "execution_count": null,
   "metadata": {},
   "outputs": [],
   "source": []
  },
  {
   "cell_type": "code",
   "execution_count": 31,
   "metadata": {},
   "outputs": [
    {
     "output_type": "execute_result",
     "data": {
      "text/plain": [
       "['ajatncpsbedbezzuqabx',\n",
       " 'yjfcplhzcssepfuetggnjnndnjjwh',\n",
       " 'oumfshivkfntpznnmsylctasr']"
      ]
     },
     "metadata": {},
     "execution_count": 31
    }
   ],
   "source": [
    "import random\n",
    "import string\n",
    "\n",
    "def generator(n):\n",
    "    ret = []\n",
    "    for i in range(n):\n",
    "        s = ''\n",
    "        if j % 3 == 0:\n",
    "            for j in range(random.randint(5, 15)):\n",
    "                s += random.choice(string.ascii_lowercase)\n",
    "            s += s.\n",
    "        else:\n",
    "            for j in range(random.randint(1, 30)):\n",
    "                s += random.choice(string.ascii_lowercase)\n",
    "        ret.append(s)\n",
    "        #ret.append(str(random.randint(1, 99)) + ' ' + s)\n",
    "    return ret\n",
    "\n",
    "generator(3)"
   ]
  },
  {
   "cell_type": "code",
   "execution_count": 33,
   "metadata": {},
   "outputs": [
    {
     "output_type": "error",
     "ename": "AttributeError",
     "evalue": "'str' object has no attribute 'reverse'",
     "traceback": [
      "\u001b[1;31m---------------------------------------------------------------------------\u001b[0m",
      "\u001b[1;31mAttributeError\u001b[0m                            Traceback (most recent call last)",
      "\u001b[1;32m<ipython-input-33-0fb6d98a5bd9>\u001b[0m in \u001b[0;36m<module>\u001b[1;34m\u001b[0m\n\u001b[1;32m----> 1\u001b[1;33m \u001b[1;34m'asdf'\u001b[0m\u001b[1;33m.\u001b[0m\u001b[0mreverse\u001b[0m\u001b[1;33m\u001b[0m\u001b[1;33m\u001b[0m\u001b[0m\n\u001b[0m",
      "\u001b[1;31mAttributeError\u001b[0m: 'str' object has no attribute 'reverse'"
     ]
    }
   ],
   "source": [
    "'asdf'.reverse"
   ]
  },
  {
   "cell_type": "code",
   "execution_count": 54,
   "metadata": {},
   "outputs": [
    {
     "output_type": "execute_result",
     "data": {
      "text/plain": [
       "1"
      ]
     },
     "metadata": {},
     "execution_count": 54
    }
   ],
   "source": [
    "int(-3 / -2)"
   ]
  },
  {
   "cell_type": "code",
   "execution_count": 71,
   "metadata": {},
   "outputs": [
    {
     "output_type": "stream",
     "name": "stdout",
     "text": [
      "4\n"
     ]
    }
   ],
   "source": [
    "#s1 = input(); s2 = input()\n",
    "s1 = \"ACAYKP\"; s2 = \"CAPCAK\"\n",
    "l1, l2 = len(s1), len(s2)\n",
    "memo_list = [[0] * (l2 + 1)] * (l1 + 1)\n",
    "for i in range(1, l1 + 1):\n",
    "    for j in range(1, l2 + 1):\n",
    "        if s1[i - 1] == s2[j - 1]:\n",
    "            memo_list[i][j] = memo_list[i - 1][j - 1] + 1\n",
    "        else:\n",
    "            memo_list[i][j] = max(memo_list[i - 1][j], memo_list[i][j - 1])\n",
    "\n",
    "print(memo_list[-1][-1])"
   ]
  },
  {
   "cell_type": "code",
   "execution_count": 93,
   "metadata": {},
   "outputs": [],
   "source": [
    "memo_list = ([[0] * 4] * 4)[:]"
   ]
  },
  {
   "cell_type": "code",
   "execution_count": 94,
   "metadata": {},
   "outputs": [],
   "source": [
    "memo_list[3][1] = 1\n",
    "memo_list[3][2] = 2"
   ]
  },
  {
   "cell_type": "code",
   "execution_count": 91,
   "metadata": {},
   "outputs": [
    {
     "output_type": "execute_result",
     "data": {
      "text/plain": [
       "[[0, 1, 2, 0], [0, 1, 2, 0], [0, 1, 2, 0], [0, 1, 2, 0]]"
      ]
     },
     "metadata": {},
     "execution_count": 91
    }
   ],
   "source": [
    "memo_list"
   ]
  },
  {
   "cell_type": "code",
   "execution_count": 92,
   "metadata": {},
   "outputs": [
    {
     "output_type": "stream",
     "name": "stdout",
     "text": [
      "140710636790128  140710636790160  140710636790192  140710636790128  \n140710636790128  140710636790160  140710636790192  140710636790128  \n140710636790128  140710636790160  140710636790192  140710636790128  \n140710636790128  140710636790160  140710636790192  140710636790128  \n"
     ]
    }
   ],
   "source": [
    "for i in range(4):\n",
    "    for j in range(4):\n",
    "        print(id(memo_list[i][j]), \" \", end=\"\")\n",
    "    print()"
   ]
  },
  {
   "cell_type": "code",
   "execution_count": 80,
   "metadata": {},
   "outputs": [],
   "source": []
  },
  {
   "cell_type": "code",
   "execution_count": 85,
   "metadata": {},
   "outputs": [],
   "source": []
  },
  {
   "cell_type": "code",
   "execution_count": 63,
   "metadata": {},
   "outputs": [
    {
     "output_type": "execute_result",
     "data": {
      "text/plain": [
       "True"
      ]
     },
     "metadata": {},
     "execution_count": 63
    }
   ],
   "source": [
    "id(memo_list[0][3]) == id(memo_list[1][3])"
   ]
  },
  {
   "cell_type": "code",
   "execution_count": 13,
   "metadata": {},
   "outputs": [
    {
     "output_type": "stream",
     "name": "stdout",
     "text": [
      "4\n"
     ]
    }
   ],
   "source": [
    "A = list(str(input()))\n",
    "B = list(str(input()))\n",
    "            \n",
    "#배열 생성\n",
    "arr = [[0 for _ in range(len(A) + 1)] for _ in range(len(B) + 1)]\n",
    "answer = 0\n",
    "\n",
    "\n",
    "#규칙에 따라 순차적으로 숫자를 넣어준다.\n",
    "for i in range(len(A)):\n",
    "    for j in range(len(B)):\n",
    "        if A[i] == B[j]:\n",
    "            arr[j+1][i+1] = arr[j][i] + 1\n",
    "            answer = max(answer, arr[j+1][i+1])\n",
    "        else:\n",
    "            arr[j+1][i+1] = max(arr[j][i+1], arr[j+1][i])\n",
    "\n",
    "print(answer)"
   ]
  },
  {
   "cell_type": "code",
   "execution_count": 14,
   "metadata": {},
   "outputs": [
    {
     "output_type": "execute_result",
     "data": {
      "text/plain": [
       "[[0, 0, 0, 0, 0, 0, 0],\n",
       " [0, 0, 1, 1, 1, 1, 1],\n",
       " [0, 1, 1, 2, 2, 2, 2],\n",
       " [0, 1, 1, 2, 2, 2, 3],\n",
       " [0, 1, 2, 2, 2, 2, 3],\n",
       " [0, 1, 2, 3, 3, 3, 3],\n",
       " [0, 1, 2, 3, 3, 4, 4]]"
      ]
     },
     "metadata": {},
     "execution_count": 14
    }
   ],
   "source": [
    "arr"
   ]
  },
  {
   "cell_type": "code",
   "execution_count": 39,
   "metadata": {},
   "outputs": [
    {
     "output_type": "stream",
     "name": "stdout",
     "text": [
      "[[0, 0, 0, 0, 0, 0, 0], [0, 0, 0, 0, 0, 0, 0], [0, 0, 0, 0, 0, 0, 0], [0, 0, 0, 0, 0, 0, 0], [0, 0, 0, 0, 0, 0, 0], [0, 0, 0, 0, 0, 0, 0], [0, 0, 0, 0, 0, 0, 0]]\n4\n"
     ]
    }
   ],
   "source": [
    "import sys \n",
    "S1 = \"ACAYKP\"; S2 = \"CAPCAK\"\n",
    "len1 = len(S1) \n",
    "len2 = len(S2) \n",
    "matrix = [[0] * (len2 + 1) for _ in range(len1 + 1)] \n",
    "print(matrix)\n",
    "for i in range(1, len1 + 1): \n",
    "    for j in range(1, len2 + 1): \n",
    "        if S1[i - 1] == S2[j - 1]: \n",
    "            matrix[i][j] = matrix[i - 1][j - 1] + 1 \n",
    "        else: \n",
    "            matrix[i][j] = max(matrix[i - 1][j], matrix[i][j - 1]) \n",
    "print(matrix[-1][-1])\n"
   ]
  },
  {
   "cell_type": "code",
   "execution_count": 40,
   "metadata": {},
   "outputs": [
    {
     "output_type": "stream",
     "name": "stdout",
     "text": [
      "4\n"
     ]
    }
   ],
   "source": [
    "s1 = input(); s2 = input()\n",
    "l1, l2 = len(s1), len(s2)\n",
    "memo_list = [[0] * (l2 + 1) for _ in range(l1 + 1)] \n",
    "for i in range(1, l1 + 1):\n",
    "    for j in range(1, l2 + 1):\n",
    "        if s1[i - 1] == s2[j - 1]:\n",
    "            memo_list[i][j] = memo_list[i - 1][j - 1] + 1\n",
    "        else:\n",
    "            memo_list[i][j] = max(memo_list[i - 1][j], memo_list[i][j - 1])\n",
    "\n",
    "print(memo_list[-1][-1])"
   ]
  },
  {
   "cell_type": "code",
   "execution_count": 38,
   "metadata": {},
   "outputs": [
    {
     "output_type": "execute_result",
     "data": {
      "text/plain": [
       "[[0, 0, 0, 0, 0, 0, 0],\n",
       " [0, 0, 1, 1, 1, 1, 1],\n",
       " [0, 1, 1, 1, 2, 2, 2],\n",
       " [0, 1, 2, 2, 2, 3, 3],\n",
       " [0, 1, 2, 2, 2, 3, 3],\n",
       " [0, 1, 2, 2, 2, 3, 4],\n",
       " [0, 1, 2, 3, 3, 3, 4]]"
      ]
     },
     "metadata": {},
     "execution_count": 38
    }
   ],
   "source": [
    "matrix"
   ]
  },
  {
   "cell_type": "code",
   "execution_count": 14,
   "metadata": {},
   "outputs": [
    {
     "output_type": "stream",
     "name": "stdout",
     "text": [
      "9\n9\n"
     ]
    }
   ],
   "source": [
    "n = int(input())\n",
    "num_list = sorted(list(map(int, input().split())))\n",
    "ret = num_list[0] + num_list[-1]\n",
    "for i in range(n):\n",
    "    if ret > num_list[i] + num_list[-(1 + i)]:\n",
    "        ret = num_list[i] + num_list[-(1 + i)]\n",
    "print(ret)"
   ]
  },
  {
   "cell_type": "code",
   "execution_count": 12,
   "metadata": {},
   "outputs": [
    {
     "output_type": "execute_result",
     "data": {
      "text/plain": [
       "[1, 5, 7, 8]"
      ]
     },
     "metadata": {},
     "execution_count": 12
    }
   ],
   "source": [
    "num_list"
   ]
  },
  {
   "cell_type": "code",
   "execution_count": 19,
   "metadata": {},
   "outputs": [],
   "source": [
    "def check(a, b):\n",
    "    if a[1] < b[0] or a[0] > b[1]:\n",
    "        return True\n",
    "    else:\n",
    "        return False\n",
    "\n",
    "n = int(input())\n",
    "num_list = []\n",
    "for i in range(n):\n",
    "    a, b = [int(i) for i in input().split()]\n",
    "    num_list.append([a, b, b - a])\n",
    "num_list.sort(key=lambda x: x[2])\n",
    "\n",
    "count_list = []\n",
    "for i in range(n):\n",
    "    if i == 0:\n",
    "        count_list.append(num_list[i])\n",
    "    else:\n",
    "        flag = True\n",
    "        for j in count_list:\n",
    "            if not check(j, num_list[i]):\n",
    "                flag = False\n",
    "                break\n",
    "        if flag == True:\n",
    "            count_list.append(num_list[i])\n",
    "\n",
    "print(len(count_list))"
   ]
  },
  {
   "cell_type": "code",
   "execution_count": 20,
   "metadata": {},
   "outputs": [
    {
     "output_type": "execute_result",
     "data": {
      "text/plain": [
       "[[2, 3, 1], [5, 7, 2]]"
      ]
     },
     "metadata": {},
     "execution_count": 20
    }
   ],
   "source": [
    "num_list"
   ]
  },
  {
   "cell_type": "code",
   "execution_count": 30,
   "metadata": {},
   "outputs": [
    {
     "output_type": "stream",
     "name": "stdout",
     "text": [
      "deque([5, 5, 5])\n0\n"
     ]
    }
   ],
   "source": [
    "from collections import deque\n",
    "n, k = list(map(int, input().split()))\n",
    "data = input().split()\n",
    "data = sorted(sorted(data, key=lambda x: x[:-1]), key= lambda x: x[-1])\n",
    "data = list(map(int, data))\n",
    "data = deque(data)\n",
    "cnt = 0\n",
    "while len(data) != 0 and k != 0:\n",
    "    if data[0] == 10:\n",
    "        k -= 1\n",
    "        cnt += 1\n",
    "        data.popleft()\n",
    "    elif data[0] > 10:\n",
    "        k -= 1\n",
    "        cnt += 1\n",
    "        data[0] -= 10\n",
    "    elif data[0] < 10:\n",
    "        data.popleft()\n",
    "print(cnt)"
   ]
  },
  {
   "cell_type": "code",
   "execution_count": 28,
   "metadata": {},
   "outputs": [
    {
     "output_type": "execute_result",
     "data": {
      "text/plain": [
       "10"
      ]
     },
     "metadata": {},
     "execution_count": 28
    }
   ],
   "source": [
    "deque([10, 20, 30])[0]"
   ]
  },
  {
   "cell_type": "code",
   "execution_count": 17,
   "metadata": {},
   "outputs": [],
   "source": [
    "data = ['21', '20', '10', '23', '15', '5']\n",
    "data = sorted(sorted(data, key=lambda x: x[:-1]), key= lambda x: x[-1])"
   ]
  },
  {
   "cell_type": "code",
   "execution_count": 18,
   "metadata": {},
   "outputs": [
    {
     "output_type": "execute_result",
     "data": {
      "text/plain": [
       "['10', '20', '21', '23', '5', '15']"
      ]
     },
     "metadata": {},
     "execution_count": 18
    }
   ],
   "source": [
    "data"
   ]
  },
  {
   "cell_type": "code",
   "execution_count": 2,
   "metadata": {},
   "outputs": [
    {
     "output_type": "stream",
     "name": "stdout",
     "text": [
      "[]\n"
     ]
    }
   ],
   "source": [
    "a = [1, 2, 3, 4, 5]\n",
    "print(a[6:])"
   ]
  },
  {
   "cell_type": "code",
   "execution_count": null,
   "metadata": {},
   "outputs": [],
   "source": [
    "import sys\n",
    "n, m = list(map(int, sys.stdin.readline().split()))\n",
    "map = [list(map(int, sys.stdin.readline().split())) for _ in range(n)]\n",
    "\n",
    "def cnt(_y, _x, _c):\n",
    "    for i in range(n):\n",
    "        for j in range(m):\n",
    "    bf1 = False\n",
    "    for j in range(_y, n):\n",
    "        for i in range(_x, m):\n",
    "            if map[j][i] == 1:\n",
    "                map[j][i] = 0\n",
    "                _c = _c + 1 + cnt(j, i, _c)\n",
    "                bf1 = True\n",
    "            if bf1:\n",
    "                break\n",
    "        if bf1:\n",
    "            break\n",
    "    return _c\n",
    "v = 1\n",
    "for i in range(n + 2):\n",
    "    if v == 0:\n",
    "        print(i - 1)\n",
    "        break\n",
    "    v = cnt(i, 0, 0)"
   ]
  }
 ]
}