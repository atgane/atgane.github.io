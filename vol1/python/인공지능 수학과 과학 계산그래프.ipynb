{
 "cells": [
  {
   "cell_type": "code",
   "execution_count": 17,
   "metadata": {},
   "outputs": [],
   "source": [
    "import numpy as np\n",
    "\n",
    "def derivative(func, arr, i, h=1e-8):\n",
    "    arr_h = []\n",
    "    for j in range(len(arr)):\n",
    "        if j == i:\n",
    "            arr_h.append(arr[j] + h)\n",
    "        else:\n",
    "            arr_h.append(arr[j])\n",
    "    return (func(*arr_h) - func(*arr)) / h\n",
    "\n",
    "class node:\n",
    "    def __init__(self, func, input_list, para_num):\n",
    "        self.func = func\n",
    "        self.para_num = para_num\n",
    "        self.input = input_list\n",
    "        self.output= func(*self.input)\n",
    "    def forward(self):\n",
    "        return self.output\n",
    "    def backward(self, past_val):\n",
    "        return_list = []\n",
    "        for i in range(self.para_num):\n",
    "            return_list.append(past_val * derivative(self.func, self.input, i))\n",
    "        return return_list"
   ]
  },
  {
   "cell_type": "code",
   "execution_count": 18,
   "metadata": {},
   "outputs": [],
   "source": [
    "sum2 = lambda x, y: x + y\n",
    "mul2 = lambda x, y: x * y\n",
    "num_minus1 = lambda x: -x\n",
    "exp = lambda x: np.exp(x)\n",
    "plus_1 = lambda x: x + 1\n",
    "inv = lambda x: 1 / x"
   ]
  },
  {
   "cell_type": "code",
   "execution_count": 19,
   "metadata": {},
   "outputs": [
    {
     "data": {
      "text/plain": [
       "0.999999993922529"
      ]
     },
     "execution_count": 19,
     "metadata": {},
     "output_type": "execute_result"
    }
   ],
   "source": [
    "derivative(exp, [0], 0)"
   ]
  },
  {
   "cell_type": "code",
   "execution_count": 20,
   "metadata": {},
   "outputs": [
    {
     "name": "stdout",
     "output_type": "stream",
     "text": [
      "[2, -1]\n",
      "-2\n",
      "----------------\n",
      "[-3, -2]\n",
      "6\n",
      "----------------\n",
      "[-2, 6]\n",
      "4\n",
      "----------------\n",
      "[4, -3]\n",
      "1\n",
      "----------------\n",
      "[1]\n",
      "-1\n",
      "----------------\n",
      "[-1]\n",
      "0.36787944117144233\n",
      "----------------\n",
      "[0.36787944117144233]\n",
      "1.3678794411714423\n",
      "----------------\n",
      "[1.3678794411714423]\n",
      "0.7310585786300049\n",
      "----------------\n"
     ]
    }
   ],
   "source": [
    "layer1 = node(mul2, [2, -1], 2)\n",
    "print(layer1.input)\n",
    "print(layer1.output)\n",
    "print('----------------')\n",
    "layer2 = node(mul2, [-3, -2], 2)\n",
    "print(layer2.input)\n",
    "print(layer2.output)\n",
    "print('----------------')\n",
    "layer3 = node(sum2, [layer1.output, layer2.output], 2)\n",
    "print(layer3.input)\n",
    "print(layer3.output)\n",
    "print('----------------')\n",
    "layer4 = node(sum2, [layer3.output, -3], 2)\n",
    "print(layer4.input)\n",
    "print(layer4.output)\n",
    "print('----------------')\n",
    "layer5 = node(num_minus1, [layer4.output], 1)\n",
    "print(layer5.input)\n",
    "print(layer5.output)\n",
    "print('----------------')\n",
    "layer6 = node(exp, [layer5.output], 1)\n",
    "print(layer6.input)\n",
    "print(layer6.output)\n",
    "print('----------------')\n",
    "layer7 = node(plus_1, [layer6.output], 1)\n",
    "print(layer7.input)\n",
    "print(layer7.output)\n",
    "print('----------------')\n",
    "layer8 = node(inv, [layer7.output], 1)\n",
    "print(layer8.input)\n",
    "print(layer8.output)\n",
    "print('----------------')"
   ]
  },
  {
   "cell_type": "code",
   "execution_count": 21,
   "metadata": {},
   "outputs": [
    {
     "name": "stdout",
     "output_type": "stream",
     "text": [
      "[-0.5344466424972438]\n",
      "[-0.5344466392491599]\n",
      "[-0.19661193226731563]\n",
      "[0.19661193107241232]\n",
      "[0.196611929877509, 0.196611929877509]\n",
      "[0.1966119286826057, 0.1966119286826057]\n",
      "[-0.39322385497540485, -0.5898357824631073]\n",
      "[-0.19661192748770243, 0.39322385934106663]\n"
     ]
    }
   ],
   "source": [
    "back8 = layer8.backward(1)\n",
    "print(back8)\n",
    "back7 = layer7.backward(back8[0])\n",
    "print(back7)\n",
    "back6 = layer6.backward(back7[0])\n",
    "print(back6)\n",
    "back5 = layer5.backward(back6[0])\n",
    "print(back5)\n",
    "back4 = layer4.backward(back5[0])\n",
    "print(back4)\n",
    "back3 = layer3.backward(back4[0])\n",
    "print(back3)\n",
    "back2 = layer2.backward(back3[1])\n",
    "print(back2)\n",
    "back1 = layer1.backward(back3[0])\n",
    "print(back1)"
   ]
  },
  {
   "cell_type": "code",
   "execution_count": 24,
   "metadata": {},
   "outputs": [
    {
     "name": "stdout",
     "output_type": "stream",
     "text": [
      "[-0.5344466424972438]\n",
      "[-0.5299999967789404]\n",
      "[-0.19497610509455754]\n",
      "[0.18999999884528052]\n",
      "[0.18999999884528052, 0.18999999884528052]\n",
      "[0.18999999884528052, 0.18999999884528052]\n",
      "[-0.37999999769056103, -0.5699999965358415]\n",
      "[-0.18999999884528052, 0.3800000019094085]\n"
     ]
    }
   ],
   "source": [
    "back8 = layer8.backward(1)\n",
    "print(back8)\n",
    "back7 = layer7.backward(round(back8[0], 2))\n",
    "print(back7)\n",
    "back6 = layer6.backward(round(back7[0], 2))\n",
    "print(back6)\n",
    "back5 = layer5.backward(round(back6[0], 2))\n",
    "print(back5)\n",
    "back4 = layer4.backward(round(back5[0], 2))\n",
    "print(back4)\n",
    "back3 = layer3.backward(round(back4[0], 2))\n",
    "print(back3)\n",
    "back2 = layer2.backward(round(back3[1], 2))\n",
    "print(back2)\n",
    "back1 = layer1.backward(round(back3[0], 2))\n",
    "print(back1)"
   ]
  },
  {
   "cell_type": "code",
   "execution_count": 23,
   "metadata": {},
   "outputs": [
    {
     "data": {
      "text/plain": [
       "0.13"
      ]
     },
     "execution_count": 23,
     "metadata": {},
     "output_type": "execute_result"
    }
   ],
   "source": [
    "round(0.125345345542 ,2)"
   ]
  },
  {
   "cell_type": "code",
   "execution_count": null,
   "metadata": {},
   "outputs": [],
   "source": [
    "round(back[0], 2)"
   ]
  }
 ],
 "metadata": {
  "kernelspec": {
   "display_name": "Python 3",
   "language": "python",
   "name": "python3"
  },
  "language_info": {
   "codemirror_mode": {
    "name": "ipython",
    "version": 3
   },
   "file_extension": ".py",
   "mimetype": "text/x-python",
   "name": "python",
   "nbconvert_exporter": "python",
   "pygments_lexer": "ipython3",
   "version": "3.7.6"
  }
 },
 "nbformat": 4,
 "nbformat_minor": 4
}
