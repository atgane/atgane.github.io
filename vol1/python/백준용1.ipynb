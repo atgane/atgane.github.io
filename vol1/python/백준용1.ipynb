{
 "metadata": {
  "language_info": {
   "codemirror_mode": {
    "name": "ipython",
    "version": 3
   },
   "file_extension": ".py",
   "mimetype": "text/x-python",
   "name": "python",
   "nbconvert_exporter": "python",
   "pygments_lexer": "ipython3",
   "version": "3.7.6-final"
  },
  "orig_nbformat": 2,
  "kernelspec": {
   "name": "python3",
   "display_name": "Python 3",
   "language": "python"
  }
 },
 "nbformat": 4,
 "nbformat_minor": 2,
 "cells": [
  {
   "cell_type": "code",
   "execution_count": null,
   "metadata": {},
   "outputs": [],
   "source": []
  },
  {
   "cell_type": "code",
   "execution_count": 12,
   "metadata": {},
   "outputs": [
    {
     "output_type": "stream",
     "name": "stdout",
     "text": [
      "0\n",
      "2\n",
      "4\n",
      "6\n"
     ]
    }
   ],
   "source": [
    "n = int(input())\n",
    "seq = list(map(int, input().split()))\n",
    "\n",
    "diff_seq = []\n",
    "\n",
    "for i in range(n):\n",
    "    if i == 0:\n",
    "        diff_seq.append(0)\n",
    "    else:\n",
    "        if seq[i] != seq[i - 1]:\n",
    "            diff_seq.append(True)\n",
    "        else:\n",
    "            diff_seq.append(False)\n",
    "\n",
    "sum_seq = [0]\n",
    "\n",
    "for i in seq:\n",
    "    sum_seq.append(sum_seq[-1] + i)\n",
    "\n",
    "q_num = int(input())\n",
    "\n",
    "for _ in range(q_num):\n",
    "    i, j = list(map(int, input().split()))\n",
    "    diff_s = diff_seq[i - 1: j]\n",
    "    if 1 in diff_s:\n",
    "        sum_s = sum_seq[i - 1:j + 1]\n",
    "        rev_s = list(reversed(sum_s))\n",
    "        all_num = list(set(sum_s))\n",
    "        m = []\n",
    "        for k in all_num:\n",
    "            m.append(j - i + 1 - sum_s.index(k) - rev_s.index(k))\n",
    "        print(max(m))\n",
    "    else:\n",
    "        print(0)"
   ]
  },
  {
   "cell_type": "code",
   "execution_count": null,
   "metadata": {},
   "outputs": [],
   "source": [
    "import sys\n",
    "n = int(sys.stdin.readline())\n",
    "seq = list(map(int, sys.stdin.readline().split()))\n",
    "\n",
    "diff_seq = []\n",
    "\n",
    "for i in range(n):\n",
    "    if i == 0:\n",
    "        diff_seq.append(0)\n",
    "    else:\n",
    "        if seq[i] != seq[i - 1]:\n",
    "            diff_seq.append(True)\n",
    "        else:\n",
    "            diff_seq.append(False)\n",
    "\n",
    "sum_seq = [0]\n",
    "\n",
    "for i in seq:\n",
    "    sum_seq.append(sum_seq[-1] + i)\n",
    "\n",
    "q_num = int(sys.stdin.readline())\n",
    "\n",
    "for _ in range(q_num):\n",
    "    i, j = list(map(int, sys.stdin.readline().split()))\n",
    "    diff_s = diff_seq[i - 1: j]\n",
    "    if 1 in diff_s:\n",
    "        sum_s = sum_seq[i - 1:j + 1]\n",
    "        rev_s = list(reversed(sum_s))\n",
    "        all_num = list(set(sum_s))\n",
    "        m = []\n",
    "        for k in all_num:\n",
    "            m.append(j - i + 1 - sum_s.index(k) - rev_s.index(k))\n",
    "        print(max(m))\n",
    "    else:\n",
    "        print(0)"
   ]
  },
  {
   "cell_type": "code",
   "execution_count": 50,
   "metadata": {},
   "outputs": [],
   "source": [
    "class h:\n",
    "    def __init__(self, n):\n",
    "        self.n = n\n",
    "        self.f = [list(reversed(list(range(1, n + 1)))), [], []]\n",
    "        self.mov_his = []\n",
    "\n",
    "    def move_to(self, s, e):\n",
    "        self.mov_his.append([s + 1, e + 1])\n",
    "        vol_block = self.f[s].pop()\n",
    "        self.f[e].append(vol_block)\n",
    "\n",
    "    def move_bundle(self, s, e, n):\n",
    "        if n == 1:\n",
    "            self.move_to(s, e)\n",
    "        else:\n",
    "            b = int(list(set([0, 1, 2]) - set([s, e]))[0])\n",
    "            self.move_bundle(s, b, n - 1)\n",
    "            self.move_to(s, e)\n",
    "            self.move_bundle(b, e, n - 1)\n",
    "\n",
    "    def print_all_his(self):\n",
    "        print(len(self.mov_his))\n",
    "        for i in self.mov_his:\n",
    "            print(' '.join(str(j) for j in i))\n",
    "\n",
    "n = int(input())\n",
    "hanoi = h(n)\n",
    "hanoi.move_bundle(0, 2, n)\n",
    "hanoi.print_all_his()"
   ]
  },
  {
   "cell_type": "code",
   "execution_count": 27,
   "metadata": {},
   "outputs": [
    {
     "output_type": "stream",
     "name": "stdout",
     "text": [
      "21\n"
     ]
    }
   ],
   "source": [
    "from itertools import combinations\n",
    "\n",
    "n, m = list(map(int, input().split()))\n",
    "list1 = list(map(int, input().split()))\n",
    "\n",
    "comb = list(combinations(list1, 3))\n",
    "\n",
    "ret = 0\n",
    "\n",
    "for i in comb:\n",
    "    if ret < sum(i) <= m:\n",
    "        ret = sum(i)\n",
    "print(ret)"
   ]
  },
  {
   "cell_type": "code",
   "execution_count": 74,
   "metadata": {},
   "outputs": [
    {
     "output_type": "stream",
     "name": "stdout",
     "text": [
      "2 2 1 "
     ]
    }
   ],
   "source": [
    "n = int(input())\n",
    "inf = []\n",
    "for i in range(n):\n",
    "    inf.append(list(map(int, input().split())))\n",
    "\n",
    "for i in range(n):\n",
    "    r = 1\n",
    "    for j in range(n):\n",
    "        if inf[i][0] != inf[j][0] and inf[i][1] != inf[j][1]:\n",
    "            if inf[i][0] < inf[j][0] and inf[i][1] < inf[j][1]:\n",
    "                r += 1\n",
    "    print(r, end=' ')"
   ]
  },
  {
   "cell_type": "code",
   "execution_count": 7,
   "metadata": {},
   "outputs": [],
   "source": [
    "n, m = list(map(int, input().split()))\n",
    "\n",
    "total_board = []\n",
    "for i in range(n):\n",
    "    total_board.append(input())"
   ]
  },
  {
   "cell_type": "code",
   "execution_count": 8,
   "metadata": {},
   "outputs": [
    {
     "output_type": "execute_result",
     "data": {
      "text/plain": [
       "['BBBBBBBBWBWBW',\n",
       " 'BBBBBBBBBWBWB',\n",
       " 'BBBBBBBBWBWBW',\n",
       " 'BBBBBBBBBWBWB',\n",
       " 'BBBBBBBBWBWBW',\n",
       " 'BBBBBBBBBWBWB',\n",
       " 'BBBBBBBBWBWBW',\n",
       " 'BBBBBBBBBWBWB',\n",
       " 'WWWWWWWWWWBWB',\n",
       " 'WWWWWWWWWWBWB']"
      ]
     },
     "metadata": {},
     "execution_count": 8
    }
   ],
   "source": [
    "total_board"
   ]
  },
  {
   "cell_type": "code",
   "execution_count": 22,
   "metadata": {},
   "outputs": [],
   "source": [
    "n, m = list(map(int, input().split()))\n",
    "\n",
    "total_board = []\n",
    "for i in range(n):\n",
    "    total_board.append(input())\n",
    "\n",
    "class board:\n",
    "    def __init__(self, tot_board, i, j):\n",
    "        self.tot_board = tot_board\n",
    "        self.i = i\n",
    "        self.j = j\n",
    "        self.board_list = []\n",
    "        for dy in range(8):\n",
    "            self.board_list.append(self.tot_board[i + dy][j: j + 8])\n",
    "        \n",
    "    def count_block_W(self):\n",
    "        ret_num = 0\n",
    "        for i in range(8):\n",
    "            for j in range(8):\n",
    "                if (i + j) % 2 == 0:\n",
    "                    if self.board_list[i][j] == 'B':\n",
    "                        ret_num += 1\n",
    "                else:\n",
    "                    if self.board_list[i][j] == 'W':\n",
    "                        ret_num += 1\n",
    "        return ret_num\n",
    "    def count_block_B(self):\n",
    "        ret_num = 0\n",
    "        for i in range(8):\n",
    "            for j in range(8):\n",
    "                if (i + j) % 2 == 0:\n",
    "                    if self.board_list[i][j] == 'W':\n",
    "                        ret_num += 1\n",
    "                else:\n",
    "                    if self.board_list[i][j] == 'B':\n",
    "                        ret_num += 1\n",
    "        return ret_num\n",
    "\n",
    "count_block_list = []\n",
    "for i in range(n - 7):\n",
    "    for j in range(m - 7):\n",
    "        vol_board = board(total_board, i, j)\n",
    "        count_block_list.append(vol_board.count_block_B())\n",
    "        count_block_list.append(vol_board.count_block_W())\n",
    "print(min(count_block_list))"
   ]
  },
  {
   "cell_type": "code",
   "execution_count": 13,
   "metadata": {},
   "outputs": [
    {
     "output_type": "stream",
     "name": "stdout",
     "text": [
      "1\n2\n3\n4\n5\n"
     ]
    }
   ],
   "source": [
    "n = int(input()); list1 = []; [list1.append(int(input())) for i in range(n)]; [print(i) for i in sorted(list1)];"
   ]
  },
  {
   "cell_type": "code",
   "execution_count": 11,
   "metadata": {},
   "outputs": [
    {
     "output_type": "execute_result",
     "data": {
      "text/plain": [
       "[5, 4, 3, 2, 1]"
      ]
     },
     "metadata": {},
     "execution_count": 11
    }
   ],
   "source": [
    "list1"
   ]
  },
  {
   "cell_type": "code",
   "execution_count": 14,
   "metadata": {},
   "outputs": [],
   "source": [
    "def insertion_sort(arr):\n",
    "    for end in range(1, len(arr)):\n",
    "        for i in range(end, 0, -1):\n",
    "            if arr[i - 1] > arr[i]:\n",
    "                arr[i - 1], arr[i] = arr[i], arr[i - 1]"
   ]
  },
  {
   "cell_type": "code",
   "execution_count": 15,
   "metadata": {},
   "outputs": [],
   "source": [
    "insertion_sort(list1)"
   ]
  },
  {
   "cell_type": "code",
   "execution_count": 16,
   "metadata": {},
   "outputs": [
    {
     "output_type": "execute_result",
     "data": {
      "text/plain": [
       "[1, 2, 3, 4, 5]"
      ]
     },
     "metadata": {},
     "execution_count": 16
    }
   ],
   "source": [
    "list1"
   ]
  },
  {
   "cell_type": "code",
   "execution_count": 32,
   "metadata": {},
   "outputs": [],
   "source": [
    "def sss(arr):\n",
    "    ret = [] + arr\n",
    "    for i in range(1, len(ret)):\n",
    "        for j in range(i, 0, -1):\n",
    "            if ret[j - 1] < ret[j]:\n",
    "                ret[j - 1], ret[j] = ret[j], ret[j - 1]\n",
    "    return ret"
   ]
  },
  {
   "cell_type": "code",
   "execution_count": 33,
   "metadata": {},
   "outputs": [
    {
     "output_type": "execute_result",
     "data": {
      "text/plain": [
       "[5, 4, 3, 3, 3, 2, 2, 1, -1]"
      ]
     },
     "metadata": {},
     "execution_count": 33
    }
   ],
   "source": [
    "sss([3, 3, 2, 4, 2, 5, 1, -1, 3])"
   ]
  },
  {
   "cell_type": "code",
   "execution_count": 18,
   "metadata": {},
   "outputs": [],
   "source": [
    "def bouble_sort(arr):\n",
    "    ret = [] + arr\n",
    "    for i in range(len(ret) - 1):\n",
    "        for j in range(len(ret) - 1 - i):\n",
    "            if ret[j + 1] < ret[j]:\n",
    "                ret[j + 1], ret[j] = ret[j], ret[j + 1]\n",
    "    return ret"
   ]
  },
  {
   "cell_type": "code",
   "execution_count": 19,
   "metadata": {},
   "outputs": [],
   "source": [
    "list1 = [1, 2, 1, 2, 3, 4, 1, 2, 3, 0, 1]"
   ]
  },
  {
   "cell_type": "code",
   "execution_count": 20,
   "metadata": {},
   "outputs": [
    {
     "output_type": "execute_result",
     "data": {
      "text/plain": [
       "[0, 1, 1, 1, 1, 2, 2, 2, 3, 3, 4]"
      ]
     },
     "metadata": {},
     "execution_count": 20
    }
   ],
   "source": [
    "def bouble_sort(arr):\n",
    "    ret = [] + arr\n",
    "    for i in range(len(ret) - 1):\n",
    "        for j in range(len(ret) - 1 - i):\n",
    "            if ret[j + 1] < ret[j]:\n",
    "                ret[j + 1], ret[j] = ret[j], ret[j + 1]\n",
    "    return ret\n",
    "\n",
    "n = int(input()); list1 = []; [list1.append(int(input())) for i in range(n)]; [print(i) for i in bouble_sort(list1)];"
   ]
  },
  {
   "cell_type": "code",
   "execution_count": 21,
   "metadata": {},
   "outputs": [],
   "source": [
    "def selection_sort(arr):\n",
    "    ret = [] + arr\n",
    "    for i in range(len(ret) - 1):\n",
    "        m = i\n",
    "        for j in range(1 + i, len(ret)):\n",
    "            if ret[j] < ret[m]:\n",
    "                m = j\n",
    "        ret[m], ret[i] = ret[i], ret[m]\n",
    "    return ret\n",
    "\n",
    "n = int(input()); list1 = []; [list1.append(int(input())) for i in range(n)]; [print(i) for i in selection_sort(list1)];"
   ]
  },
  {
   "cell_type": "code",
   "execution_count": 22,
   "metadata": {},
   "outputs": [
    {
     "output_type": "stream",
     "name": "stdout",
     "text": [
      "[0, 1, 1, 1, 1, 2, 2, 2, 3, 3, 4]\n"
     ]
    }
   ],
   "source": [
    "list1 = [1, 2, 1, 2, 3, 4, 1, 2, 3, 0, 1]\n",
    "print(selection_sort(list1))"
   ]
  },
  {
   "cell_type": "code",
   "execution_count": 28,
   "metadata": {},
   "outputs": [
    {
     "output_type": "error",
     "ename": "ValueError",
     "evalue": "invalid literal for int() with base 10: '3 3 3 3 3 3 3 1 2 3'",
     "traceback": [
      "\u001b[1;31m---------------------------------------------------------------------------\u001b[0m",
      "\u001b[1;31mValueError\u001b[0m                                Traceback (most recent call last)",
      "\u001b[1;32m<ipython-input-28-22e8ba76a8a3>\u001b[0m in \u001b[0;36m<module>\u001b[1;34m\u001b[0m\n\u001b[0;32m      9\u001b[0m     \u001b[1;32mreturn\u001b[0m \u001b[0mret\u001b[0m\u001b[1;33m\u001b[0m\u001b[1;33m\u001b[0m\u001b[0m\n\u001b[0;32m     10\u001b[0m \u001b[1;33m\u001b[0m\u001b[0m\n\u001b[1;32m---> 11\u001b[1;33m \u001b[0mn\u001b[0m \u001b[1;33m=\u001b[0m \u001b[0mint\u001b[0m\u001b[1;33m(\u001b[0m\u001b[0minput\u001b[0m\u001b[1;33m(\u001b[0m\u001b[1;33m)\u001b[0m\u001b[1;33m)\u001b[0m\u001b[1;33m;\u001b[0m \u001b[0mlist1\u001b[0m \u001b[1;33m=\u001b[0m \u001b[1;33m[\u001b[0m\u001b[1;33m]\u001b[0m\u001b[1;33m;\u001b[0m \u001b[1;33m[\u001b[0m\u001b[0mlist1\u001b[0m\u001b[1;33m.\u001b[0m\u001b[0mappend\u001b[0m\u001b[1;33m(\u001b[0m\u001b[0mint\u001b[0m\u001b[1;33m(\u001b[0m\u001b[0minput\u001b[0m\u001b[1;33m(\u001b[0m\u001b[1;33m)\u001b[0m\u001b[1;33m)\u001b[0m\u001b[1;33m)\u001b[0m \u001b[1;32mfor\u001b[0m \u001b[0mi\u001b[0m \u001b[1;32min\u001b[0m \u001b[0mrange\u001b[0m\u001b[1;33m(\u001b[0m\u001b[0mn\u001b[0m\u001b[1;33m)\u001b[0m\u001b[1;33m]\u001b[0m\u001b[1;33m;\u001b[0m \u001b[1;33m[\u001b[0m\u001b[0mprint\u001b[0m\u001b[1;33m(\u001b[0m\u001b[0mi\u001b[0m\u001b[1;33m)\u001b[0m \u001b[1;32mfor\u001b[0m \u001b[0mi\u001b[0m \u001b[1;32min\u001b[0m \u001b[0minsertion_sort\u001b[0m\u001b[1;33m(\u001b[0m\u001b[0mlist1\u001b[0m\u001b[1;33m)\u001b[0m\u001b[1;33m]\u001b[0m\u001b[1;33m;\u001b[0m\u001b[1;33m\u001b[0m\u001b[1;33m\u001b[0m\u001b[0m\n\u001b[0m",
      "\u001b[1;32m<ipython-input-28-22e8ba76a8a3>\u001b[0m in \u001b[0;36m<listcomp>\u001b[1;34m(.0)\u001b[0m\n\u001b[0;32m      9\u001b[0m     \u001b[1;32mreturn\u001b[0m \u001b[0mret\u001b[0m\u001b[1;33m\u001b[0m\u001b[1;33m\u001b[0m\u001b[0m\n\u001b[0;32m     10\u001b[0m \u001b[1;33m\u001b[0m\u001b[0m\n\u001b[1;32m---> 11\u001b[1;33m \u001b[0mn\u001b[0m \u001b[1;33m=\u001b[0m \u001b[0mint\u001b[0m\u001b[1;33m(\u001b[0m\u001b[0minput\u001b[0m\u001b[1;33m(\u001b[0m\u001b[1;33m)\u001b[0m\u001b[1;33m)\u001b[0m\u001b[1;33m;\u001b[0m \u001b[0mlist1\u001b[0m \u001b[1;33m=\u001b[0m \u001b[1;33m[\u001b[0m\u001b[1;33m]\u001b[0m\u001b[1;33m;\u001b[0m \u001b[1;33m[\u001b[0m\u001b[0mlist1\u001b[0m\u001b[1;33m.\u001b[0m\u001b[0mappend\u001b[0m\u001b[1;33m(\u001b[0m\u001b[0mint\u001b[0m\u001b[1;33m(\u001b[0m\u001b[0minput\u001b[0m\u001b[1;33m(\u001b[0m\u001b[1;33m)\u001b[0m\u001b[1;33m)\u001b[0m\u001b[1;33m)\u001b[0m \u001b[1;32mfor\u001b[0m \u001b[0mi\u001b[0m \u001b[1;32min\u001b[0m \u001b[0mrange\u001b[0m\u001b[1;33m(\u001b[0m\u001b[0mn\u001b[0m\u001b[1;33m)\u001b[0m\u001b[1;33m]\u001b[0m\u001b[1;33m;\u001b[0m \u001b[1;33m[\u001b[0m\u001b[0mprint\u001b[0m\u001b[1;33m(\u001b[0m\u001b[0mi\u001b[0m\u001b[1;33m)\u001b[0m \u001b[1;32mfor\u001b[0m \u001b[0mi\u001b[0m \u001b[1;32min\u001b[0m \u001b[0minsertion_sort\u001b[0m\u001b[1;33m(\u001b[0m\u001b[0mlist1\u001b[0m\u001b[1;33m)\u001b[0m\u001b[1;33m]\u001b[0m\u001b[1;33m;\u001b[0m\u001b[1;33m\u001b[0m\u001b[1;33m\u001b[0m\u001b[0m\n\u001b[0m",
      "\u001b[1;31mValueError\u001b[0m: invalid literal for int() with base 10: '3 3 3 3 3 3 3 1 2 3'"
     ]
    }
   ],
   "source": [
    "def insertion_sort(arr):\n",
    "    ret = [] + arr\n",
    "    for i in range(len(ret) - 1):\n",
    "        for j in range(i + 1, 0, -1):\n",
    "            if ret[j] < ret[j - 1]:\n",
    "                ret[j], ret[j - 1] = ret[j - 1], ret[j]\n",
    "            else:\n",
    "                break\n",
    "    return ret\n",
    "\n",
    "n = int(input()); list1 = []; [list1.append(int(input())) for i in range(n)]; [print(i) for i in insertion_sort(list1)];"
   ]
  },
  {
   "cell_type": "code",
   "execution_count": 25,
   "metadata": {},
   "outputs": [
    {
     "output_type": "stream",
     "name": "stdout",
     "text": [
      "[0, 1, 1, 1, 1, 2, 2, 2, 3, 3, 4]\n"
     ]
    }
   ],
   "source": [
    "list1 = [1, 2, 1, 2, 3, 4, 1, 2, 3, 0, 1]\n",
    "print(insertion_sort(list1))"
   ]
  },
  {
   "cell_type": "code",
   "execution_count": 30,
   "metadata": {},
   "outputs": [
    {
     "output_type": "execute_result",
     "data": {
      "text/plain": [
       "61561607062"
      ]
     },
     "metadata": {},
     "execution_count": 30
    }
   ],
   "source": []
  },
  {
   "cell_type": "code",
   "execution_count": null,
   "metadata": {},
   "outputs": [],
   "source": []
  }
 ]
}