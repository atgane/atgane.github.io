{
 "metadata": {
  "language_info": {
   "codemirror_mode": {
    "name": "ipython",
    "version": 3
   },
   "file_extension": ".py",
   "mimetype": "text/x-python",
   "name": "python",
   "nbconvert_exporter": "python",
   "pygments_lexer": "ipython3",
   "version": "3.7.6-final"
  },
  "orig_nbformat": 2,
  "kernelspec": {
   "name": "python3",
   "display_name": "Python 3",
   "language": "python"
  }
 },
 "nbformat": 4,
 "nbformat_minor": 2,
 "cells": [
  {
   "cell_type": "code",
   "execution_count": 12,
   "metadata": {},
   "outputs": [
    {
     "output_type": "stream",
     "name": "stdout",
     "text": [
      "0\n",
      "2\n",
      "4\n",
      "6\n"
     ]
    }
   ],
   "source": [
    "n = int(input())\n",
    "seq = list(map(int, input().split()))\n",
    "\n",
    "diff_seq = []\n",
    "\n",
    "for i in range(n):\n",
    "    if i == 0:\n",
    "        diff_seq.append(0)\n",
    "    else:\n",
    "        if seq[i] != seq[i - 1]:\n",
    "            diff_seq.append(True)\n",
    "        else:\n",
    "            diff_seq.append(False)\n",
    "\n",
    "sum_seq = [0]\n",
    "\n",
    "for i in seq:\n",
    "    sum_seq.append(sum_seq[-1] + i)\n",
    "\n",
    "q_num = int(input())\n",
    "\n",
    "for _ in range(q_num):\n",
    "    i, j = list(map(int, input().split()))\n",
    "    diff_s = diff_seq[i - 1: j]\n",
    "    if 1 in diff_s:\n",
    "        sum_s = sum_seq[i - 1:j + 1]\n",
    "        rev_s = list(reversed(sum_s))\n",
    "        all_num = list(set(sum_s))\n",
    "        m = []\n",
    "        for k in all_num:\n",
    "            m.append(j - i + 1 - sum_s.index(k) - rev_s.index(k))\n",
    "        print(max(m))\n",
    "    else:\n",
    "        print(0)"
   ]
  },
  {
   "cell_type": "code",
   "execution_count": null,
   "metadata": {},
   "outputs": [],
   "source": [
    "import sys\n",
    "n = int(sys.stdin.readline())\n",
    "seq = list(map(int, sys.stdin.readline().split()))\n",
    "\n",
    "diff_seq = []\n",
    "\n",
    "for i in range(n):\n",
    "    if i == 0:\n",
    "        diff_seq.append(0)\n",
    "    else:\n",
    "        if seq[i] != seq[i - 1]:\n",
    "            diff_seq.append(True)\n",
    "        else:\n",
    "            diff_seq.append(False)\n",
    "\n",
    "sum_seq = [0]\n",
    "\n",
    "for i in seq:\n",
    "    sum_seq.append(sum_seq[-1] + i)\n",
    "\n",
    "q_num = int(sys.stdin.readline())\n",
    "\n",
    "for _ in range(q_num):\n",
    "    i, j = list(map(int, sys.stdin.readline().split()))\n",
    "    diff_s = diff_seq[i - 1: j]\n",
    "    if 1 in diff_s:\n",
    "        sum_s = sum_seq[i - 1:j + 1]\n",
    "        rev_s = list(reversed(sum_s))\n",
    "        all_num = list(set(sum_s))\n",
    "        m = []\n",
    "        for k in all_num:\n",
    "            m.append(j - i + 1 - sum_s.index(k) - rev_s.index(k))\n",
    "        print(max(m))\n",
    "    else:\n",
    "        print(0)"
   ]
  },
  {
   "cell_type": "code",
   "execution_count": 50,
   "metadata": {},
   "outputs": [],
   "source": [
    "class h:\n",
    "    def __init__(self, n):\n",
    "        self.n = n\n",
    "        self.f = [list(reversed(list(range(1, n + 1)))), [], []]\n",
    "        self.mov_his = []\n",
    "\n",
    "    def move_to(self, s, e):\n",
    "        self.mov_his.append([s + 1, e + 1])\n",
    "        vol_block = self.f[s].pop()\n",
    "        self.f[e].append(vol_block)\n",
    "\n",
    "    def move_bundle(self, s, e, n):\n",
    "        if n == 1:\n",
    "            self.move_to(s, e)\n",
    "        else:\n",
    "            b = int(list(set([0, 1, 2]) - set([s, e]))[0])\n",
    "            self.move_bundle(s, b, n - 1)\n",
    "            self.move_to(s, e)\n",
    "            self.move_bundle(b, e, n - 1)\n",
    "\n",
    "    def print_all_his(self):\n",
    "        print(len(self.mov_his))\n",
    "        for i in self.mov_his:\n",
    "            print(' '.join(str(j) for j in i))\n",
    "\n",
    "n = int(input())\n",
    "hanoi = h(n)\n",
    "hanoi.move_bundle(0, 2, n)\n",
    "hanoi.print_all_his()"
   ]
  },
  {
   "cell_type": "code",
   "execution_count": 27,
   "metadata": {},
   "outputs": [
    {
     "output_type": "stream",
     "name": "stdout",
     "text": [
      "21\n"
     ]
    }
   ],
   "source": [
    "from itertools import combinations\n",
    "\n",
    "n, m = list(map(int, input().split()))\n",
    "list1 = list(map(int, input().split()))\n",
    "\n",
    "comb = list(combinations(list1, 3))\n",
    "\n",
    "ret = 0\n",
    "\n",
    "for i in comb:\n",
    "    if ret < sum(i) <= m:\n",
    "        ret = sum(i)\n",
    "print(ret)"
   ]
  },
  {
   "cell_type": "code",
   "execution_count": 74,
   "metadata": {},
   "outputs": [
    {
     "output_type": "stream",
     "name": "stdout",
     "text": [
      "2 2 1 "
     ]
    }
   ],
   "source": [
    "n = int(input())\n",
    "inf = []\n",
    "for i in range(n):\n",
    "    inf.append(list(map(int, input().split())))\n",
    "\n",
    "for i in range(n):\n",
    "    r = 1\n",
    "    for j in range(n):\n",
    "        if inf[i][0] != inf[j][0] and inf[i][1] != inf[j][1]:\n",
    "            if inf[i][0] < inf[j][0] and inf[i][1] < inf[j][1]:\n",
    "                r += 1\n",
    "    print(r, end=' ')"
   ]
  },
  {
   "cell_type": "code",
   "execution_count": 72,
   "metadata": {},
   "outputs": [
    {
     "output_type": "stream",
     "name": "stdout",
     "text": [
      "[[1, 4], [2, 3], [5, 6], [5, 1], [6, 1]]\n"
     ]
    }
   ],
   "source": [
    "n, m = list(map(int, input().split()))\n",
    "\n",
    "for i in range(n):\n",
    "    "
   ]
  },
  {
   "cell_type": "code",
   "execution_count": null,
   "metadata": {},
   "outputs": [],
   "source": [
    "class board:\n",
    "    def __init__(self, board_list):\n",
    "        self.board_list = board_list"
   ]
  }
 ]
}