{
 "metadata": {
  "language_info": {
   "codemirror_mode": {
    "name": "ipython",
    "version": 3
   },
   "file_extension": ".py",
   "mimetype": "text/x-python",
   "name": "python",
   "nbconvert_exporter": "python",
   "pygments_lexer": "ipython3",
   "version": "3.7.6-final"
  },
  "orig_nbformat": 2,
  "kernelspec": {
   "name": "python3",
   "display_name": "Python 3",
   "language": "python"
  }
 },
 "nbformat": 4,
 "nbformat_minor": 2,
 "cells": [
  {
   "cell_type": "code",
   "execution_count": null,
   "metadata": {},
   "outputs": [],
   "source": [
    "import sys\n",
    "n = int(sys.stdin.readline())\n",
    "seq = list(map(int, sys.stdin.readline().split()))\n",
    "\n",
    "diff_seq = []\n",
    "\n",
    "for i in range(n):\n",
    "    if i == 0:\n",
    "        diff_seq.append(0)\n",
    "    else:\n",
    "        if seq[i] != seq[i - 1]:\n",
    "            diff_seq.append(True)\n",
    "        else:\n",
    "            diff_seq.append(False)\n",
    "\n",
    "sum_seq = [0]\n",
    "\n",
    "for i in seq:\n",
    "    sum_seq.append(sum_seq[-1] + i)\n",
    "\n",
    "q_num = int(sys.stdin.readline())\n",
    "\n",
    "for _ in range(q_num):\n",
    "    i, j = list(map(int, sys.stdin.readline().split()))\n",
    "    diff_s = diff_seq[i - 1: j]\n",
    "    if 1 in diff_s:\n",
    "        sum_s = sum_seq[i - 1:j + 1]\n",
    "        rev_s = list(reversed(sum_s))\n",
    "        all_num = list(set(sum_s))\n",
    "        m = []\n",
    "        for k in all_num:\n",
    "            m.append(j - i + 1 - sum_s.index(k) - rev_s.index(k))\n",
    "        print(max(m))\n",
    "    else:\n",
    "        print(0)"
   ]
  },
  {
   "cell_type": "code",
   "execution_count": 50,
   "metadata": {},
   "outputs": [],
   "source": [
    "class h:\n",
    "    def __init__(self, n):\n",
    "        self.n = n\n",
    "        self.f = [list(reversed(list(range(1, n + 1)))), [], []]\n",
    "        self.mov_his = []\n",
    "\n",
    "    def move_to(self, s, e):\n",
    "        self.mov_his.append([s + 1, e + 1])\n",
    "        vol_block = self.f[s].pop()\n",
    "        self.f[e].append(vol_block)\n",
    "\n",
    "    def move_bundle(self, s, e, n):\n",
    "        if n == 1:\n",
    "            self.move_to(s, e)\n",
    "        else:\n",
    "            b = int(list(set([0, 1, 2]) - set([s, e]))[0])\n",
    "            self.move_bundle(s, b, n - 1)\n",
    "            self.move_to(s, e)\n",
    "            self.move_bundle(b, e, n - 1)\n",
    "\n",
    "    def print_all_his(self):\n",
    "        print(len(self.mov_his))\n",
    "        for i in self.mov_his:\n",
    "            print(' '.join(str(j) for j in i))\n",
    "\n",
    "n = int(input())\n",
    "hanoi = h(n)\n",
    "hanoi.move_bundle(0, 2, n)\n",
    "hanoi.print_all_his()"
   ]
  },
  {
   "cell_type": "code",
   "execution_count": 27,
   "metadata": {},
   "outputs": [
    {
     "output_type": "stream",
     "name": "stdout",
     "text": [
      "21\n"
     ]
    }
   ],
   "source": [
    "from itertools import combinations\n",
    "\n",
    "n, m = list(map(int, input().split()))\n",
    "list1 = list(map(int, input().split()))\n",
    "\n",
    "comb = list(combinations(list1, 3))\n",
    "\n",
    "ret = 0\n",
    "\n",
    "for i in comb:\n",
    "    if ret < sum(i) <= m:\n",
    "        ret = sum(i)\n",
    "print(ret)"
   ]
  },
  {
   "cell_type": "code",
   "execution_count": 74,
   "metadata": {},
   "outputs": [
    {
     "output_type": "stream",
     "name": "stdout",
     "text": [
      "2 2 1 "
     ]
    }
   ],
   "source": [
    "n = int(input())\n",
    "inf = []\n",
    "for i in range(n):\n",
    "    inf.append(list(map(int, input().split())))\n",
    "\n",
    "for i in range(n):\n",
    "    r = 1\n",
    "    for j in range(n):\n",
    "        if inf[i][0] != inf[j][0] and inf[i][1] != inf[j][1]:\n",
    "            if inf[i][0] < inf[j][0] and inf[i][1] < inf[j][1]:\n",
    "                r += 1\n",
    "    print(r, end=' ')"
   ]
  },
  {
   "cell_type": "code",
   "execution_count": 7,
   "metadata": {},
   "outputs": [],
   "source": [
    "n, m = list(map(int, input().split()))\n",
    "\n",
    "total_board = []\n",
    "for i in range(n):\n",
    "    total_board.append(input())"
   ]
  },
  {
   "cell_type": "code",
   "execution_count": 8,
   "metadata": {},
   "outputs": [
    {
     "output_type": "execute_result",
     "data": {
      "text/plain": [
       "['BBBBBBBBWBWBW',\n",
       " 'BBBBBBBBBWBWB',\n",
       " 'BBBBBBBBWBWBW',\n",
       " 'BBBBBBBBBWBWB',\n",
       " 'BBBBBBBBWBWBW',\n",
       " 'BBBBBBBBBWBWB',\n",
       " 'BBBBBBBBWBWBW',\n",
       " 'BBBBBBBBBWBWB',\n",
       " 'WWWWWWWWWWBWB',\n",
       " 'WWWWWWWWWWBWB']"
      ]
     },
     "metadata": {},
     "execution_count": 8
    }
   ],
   "source": [
    "total_board"
   ]
  },
  {
   "cell_type": "code",
   "execution_count": 22,
   "metadata": {},
   "outputs": [],
   "source": [
    "n, m = list(map(int, input().split()))\n",
    "\n",
    "total_board = []\n",
    "for i in range(n):\n",
    "    total_board.append(input())\n",
    "\n",
    "class board:\n",
    "    def __init__(self, tot_board, i, j):\n",
    "        self.tot_board = tot_board\n",
    "        self.i = i\n",
    "        self.j = j\n",
    "        self.board_list = []\n",
    "        for dy in range(8):\n",
    "            self.board_list.append(self.tot_board[i + dy][j: j + 8])\n",
    "        \n",
    "    def count_block_W(self):\n",
    "        ret_num = 0\n",
    "        for i in range(8):\n",
    "            for j in range(8):\n",
    "                if (i + j) % 2 == 0:\n",
    "                    if self.board_list[i][j] == 'B':\n",
    "                        ret_num += 1\n",
    "                else:\n",
    "                    if self.board_list[i][j] == 'W':\n",
    "                        ret_num += 1\n",
    "        return ret_num\n",
    "    def count_block_B(self):\n",
    "        ret_num = 0\n",
    "        for i in range(8):\n",
    "            for j in range(8):\n",
    "                if (i + j) % 2 == 0:\n",
    "                    if self.board_list[i][j] == 'W':\n",
    "                        ret_num += 1\n",
    "                else:\n",
    "                    if self.board_list[i][j] == 'B':\n",
    "                        ret_num += 1\n",
    "        return ret_num\n",
    "\n",
    "count_block_list = []\n",
    "for i in range(n - 7):\n",
    "    for j in range(m - 7):\n",
    "        vol_board = board(total_board, i, j)\n",
    "        count_block_list.append(vol_board.count_block_B())\n",
    "        count_block_list.append(vol_board.count_block_W())\n",
    "print(min(count_block_list))"
   ]
  },
  {
   "cell_type": "code",
   "execution_count": 13,
   "metadata": {},
   "outputs": [
    {
     "output_type": "stream",
     "name": "stdout",
     "text": [
      "1\n2\n3\n4\n5\n"
     ]
    }
   ],
   "source": [
    "n = int(input()); list1 = []; [list1.append(int(input())) for i in range(n)]; [print(i) for i in sorted(list1)];"
   ]
  },
  {
   "cell_type": "code",
   "execution_count": 11,
   "metadata": {},
   "outputs": [
    {
     "output_type": "execute_result",
     "data": {
      "text/plain": [
       "[5, 4, 3, 2, 1]"
      ]
     },
     "metadata": {},
     "execution_count": 11
    }
   ],
   "source": [
    "list1"
   ]
  },
  {
   "cell_type": "code",
   "execution_count": 14,
   "metadata": {},
   "outputs": [],
   "source": [
    "def insertion_sort(arr):\n",
    "    for end in range(1, len(arr)):\n",
    "        for i in range(end, 0, -1):\n",
    "            if arr[i - 1] > arr[i]:\n",
    "                arr[i - 1], arr[i] = arr[i], arr[i - 1]"
   ]
  },
  {
   "cell_type": "code",
   "execution_count": 15,
   "metadata": {},
   "outputs": [],
   "source": [
    "insertion_sort(list1)"
   ]
  },
  {
   "cell_type": "code",
   "execution_count": 16,
   "metadata": {},
   "outputs": [
    {
     "output_type": "execute_result",
     "data": {
      "text/plain": [
       "[1, 2, 3, 4, 5]"
      ]
     },
     "metadata": {},
     "execution_count": 16
    }
   ],
   "source": [
    "list1"
   ]
  },
  {
   "cell_type": "code",
   "execution_count": 32,
   "metadata": {},
   "outputs": [],
   "source": [
    "def sss(arr):\n",
    "    ret = [] + arr\n",
    "    for i in range(1, len(ret)):\n",
    "        for j in range(i, 0, -1):\n",
    "            if ret[j - 1] < ret[j]:\n",
    "                ret[j - 1], ret[j] = ret[j], ret[j - 1]\n",
    "    return ret"
   ]
  },
  {
   "cell_type": "code",
   "execution_count": 33,
   "metadata": {},
   "outputs": [
    {
     "output_type": "execute_result",
     "data": {
      "text/plain": [
       "[5, 4, 3, 3, 3, 2, 2, 1, -1]"
      ]
     },
     "metadata": {},
     "execution_count": 33
    }
   ],
   "source": [
    "sss([3, 3, 2, 4, 2, 5, 1, -1, 3])"
   ]
  },
  {
   "cell_type": "code",
   "execution_count": 18,
   "metadata": {},
   "outputs": [],
   "source": [
    "def bouble_sort(arr):\n",
    "    ret = [] + arr\n",
    "    for i in range(len(ret) - 1):\n",
    "        for j in range(len(ret) - 1 - i):\n",
    "            if ret[j + 1] < ret[j]:\n",
    "                ret[j + 1], ret[j] = ret[j], ret[j + 1]\n",
    "    return ret"
   ]
  },
  {
   "cell_type": "code",
   "execution_count": 19,
   "metadata": {},
   "outputs": [],
   "source": [
    "list1 = [1, 2, 1, 2, 3, 4, 1, 2, 3, 0, 1]"
   ]
  },
  {
   "cell_type": "code",
   "execution_count": 20,
   "metadata": {},
   "outputs": [
    {
     "output_type": "execute_result",
     "data": {
      "text/plain": [
       "[0, 1, 1, 1, 1, 2, 2, 2, 3, 3, 4]"
      ]
     },
     "metadata": {},
     "execution_count": 20
    }
   ],
   "source": [
    "def bouble_sort(arr):\n",
    "    ret = [] + arr\n",
    "    for i in range(len(ret) - 1):\n",
    "        for j in range(len(ret) - 1 - i):\n",
    "            if ret[j + 1] < ret[j]:\n",
    "                ret[j + 1], ret[j] = ret[j], ret[j + 1]\n",
    "    return ret\n",
    "\n",
    "n = int(input()); list1 = []; [list1.append(int(input())) for i in range(n)]; [print(i) for i in bouble_sort(list1)];"
   ]
  },
  {
   "cell_type": "code",
   "execution_count": 21,
   "metadata": {},
   "outputs": [],
   "source": [
    "def selection_sort(arr):\n",
    "    ret = [] + arr\n",
    "    for i in range(len(ret) - 1):\n",
    "        m = i\n",
    "        for j in range(1 + i, len(ret)):\n",
    "            if ret[j] < ret[m]:\n",
    "                m = j\n",
    "        ret[m], ret[i] = ret[i], ret[m]\n",
    "    return ret\n",
    "\n",
    "n = int(input()); list1 = []; [list1.append(int(input())) for i in range(n)]; [print(i) for i in selection_sort(list1)];"
   ]
  },
  {
   "cell_type": "code",
   "execution_count": 22,
   "metadata": {},
   "outputs": [
    {
     "output_type": "stream",
     "name": "stdout",
     "text": [
      "[0, 1, 1, 1, 1, 2, 2, 2, 3, 3, 4]\n"
     ]
    }
   ],
   "source": [
    "list1 = [1, 2, 1, 2, 3, 4, 1, 2, 3, 0, 1]\n",
    "print(selection_sort(list1))"
   ]
  },
  {
   "cell_type": "code",
   "execution_count": 28,
   "metadata": {},
   "outputs": [
    {
     "output_type": "error",
     "ename": "ValueError",
     "evalue": "invalid literal for int() with base 10: '3 3 3 3 3 3 3 1 2 3'",
     "traceback": [
      "\u001b[1;31m---------------------------------------------------------------------------\u001b[0m",
      "\u001b[1;31mValueError\u001b[0m                                Traceback (most recent call last)",
      "\u001b[1;32m<ipython-input-28-22e8ba76a8a3>\u001b[0m in \u001b[0;36m<module>\u001b[1;34m\u001b[0m\n\u001b[0;32m      9\u001b[0m     \u001b[1;32mreturn\u001b[0m \u001b[0mret\u001b[0m\u001b[1;33m\u001b[0m\u001b[1;33m\u001b[0m\u001b[0m\n\u001b[0;32m     10\u001b[0m \u001b[1;33m\u001b[0m\u001b[0m\n\u001b[1;32m---> 11\u001b[1;33m \u001b[0mn\u001b[0m \u001b[1;33m=\u001b[0m \u001b[0mint\u001b[0m\u001b[1;33m(\u001b[0m\u001b[0minput\u001b[0m\u001b[1;33m(\u001b[0m\u001b[1;33m)\u001b[0m\u001b[1;33m)\u001b[0m\u001b[1;33m;\u001b[0m \u001b[0mlist1\u001b[0m \u001b[1;33m=\u001b[0m \u001b[1;33m[\u001b[0m\u001b[1;33m]\u001b[0m\u001b[1;33m;\u001b[0m \u001b[1;33m[\u001b[0m\u001b[0mlist1\u001b[0m\u001b[1;33m.\u001b[0m\u001b[0mappend\u001b[0m\u001b[1;33m(\u001b[0m\u001b[0mint\u001b[0m\u001b[1;33m(\u001b[0m\u001b[0minput\u001b[0m\u001b[1;33m(\u001b[0m\u001b[1;33m)\u001b[0m\u001b[1;33m)\u001b[0m\u001b[1;33m)\u001b[0m \u001b[1;32mfor\u001b[0m \u001b[0mi\u001b[0m \u001b[1;32min\u001b[0m \u001b[0mrange\u001b[0m\u001b[1;33m(\u001b[0m\u001b[0mn\u001b[0m\u001b[1;33m)\u001b[0m\u001b[1;33m]\u001b[0m\u001b[1;33m;\u001b[0m \u001b[1;33m[\u001b[0m\u001b[0mprint\u001b[0m\u001b[1;33m(\u001b[0m\u001b[0mi\u001b[0m\u001b[1;33m)\u001b[0m \u001b[1;32mfor\u001b[0m \u001b[0mi\u001b[0m \u001b[1;32min\u001b[0m \u001b[0minsertion_sort\u001b[0m\u001b[1;33m(\u001b[0m\u001b[0mlist1\u001b[0m\u001b[1;33m)\u001b[0m\u001b[1;33m]\u001b[0m\u001b[1;33m;\u001b[0m\u001b[1;33m\u001b[0m\u001b[1;33m\u001b[0m\u001b[0m\n\u001b[0m",
      "\u001b[1;32m<ipython-input-28-22e8ba76a8a3>\u001b[0m in \u001b[0;36m<listcomp>\u001b[1;34m(.0)\u001b[0m\n\u001b[0;32m      9\u001b[0m     \u001b[1;32mreturn\u001b[0m \u001b[0mret\u001b[0m\u001b[1;33m\u001b[0m\u001b[1;33m\u001b[0m\u001b[0m\n\u001b[0;32m     10\u001b[0m \u001b[1;33m\u001b[0m\u001b[0m\n\u001b[1;32m---> 11\u001b[1;33m \u001b[0mn\u001b[0m \u001b[1;33m=\u001b[0m \u001b[0mint\u001b[0m\u001b[1;33m(\u001b[0m\u001b[0minput\u001b[0m\u001b[1;33m(\u001b[0m\u001b[1;33m)\u001b[0m\u001b[1;33m)\u001b[0m\u001b[1;33m;\u001b[0m \u001b[0mlist1\u001b[0m \u001b[1;33m=\u001b[0m \u001b[1;33m[\u001b[0m\u001b[1;33m]\u001b[0m\u001b[1;33m;\u001b[0m \u001b[1;33m[\u001b[0m\u001b[0mlist1\u001b[0m\u001b[1;33m.\u001b[0m\u001b[0mappend\u001b[0m\u001b[1;33m(\u001b[0m\u001b[0mint\u001b[0m\u001b[1;33m(\u001b[0m\u001b[0minput\u001b[0m\u001b[1;33m(\u001b[0m\u001b[1;33m)\u001b[0m\u001b[1;33m)\u001b[0m\u001b[1;33m)\u001b[0m \u001b[1;32mfor\u001b[0m \u001b[0mi\u001b[0m \u001b[1;32min\u001b[0m \u001b[0mrange\u001b[0m\u001b[1;33m(\u001b[0m\u001b[0mn\u001b[0m\u001b[1;33m)\u001b[0m\u001b[1;33m]\u001b[0m\u001b[1;33m;\u001b[0m \u001b[1;33m[\u001b[0m\u001b[0mprint\u001b[0m\u001b[1;33m(\u001b[0m\u001b[0mi\u001b[0m\u001b[1;33m)\u001b[0m \u001b[1;32mfor\u001b[0m \u001b[0mi\u001b[0m \u001b[1;32min\u001b[0m \u001b[0minsertion_sort\u001b[0m\u001b[1;33m(\u001b[0m\u001b[0mlist1\u001b[0m\u001b[1;33m)\u001b[0m\u001b[1;33m]\u001b[0m\u001b[1;33m;\u001b[0m\u001b[1;33m\u001b[0m\u001b[1;33m\u001b[0m\u001b[0m\n\u001b[0m",
      "\u001b[1;31mValueError\u001b[0m: invalid literal for int() with base 10: '3 3 3 3 3 3 3 1 2 3'"
     ]
    }
   ],
   "source": [
    "def insertion_sort(arr):\n",
    "    ret = [] + arr\n",
    "    for i in range(len(ret) - 1):\n",
    "        for j in range(i + 1, 0, -1):\n",
    "            if ret[j] < ret[j - 1]:\n",
    "                ret[j], ret[j - 1] = ret[j - 1], ret[j]\n",
    "            else:\n",
    "                break\n",
    "    return ret\n",
    "\n",
    "n = int(input()); list1 = []; [list1.append(int(input())) for i in range(n)]; [print(i) for i in insertion_sort(list1)];"
   ]
  },
  {
   "cell_type": "code",
   "execution_count": 25,
   "metadata": {},
   "outputs": [
    {
     "output_type": "stream",
     "name": "stdout",
     "text": [
      "[0, 1, 1, 1, 1, 2, 2, 2, 3, 3, 4]\n"
     ]
    }
   ],
   "source": [
    "list1 = [1, 2, 1, 2, 3, 4, 1, 2, 3, 0, 1]\n",
    "print(insertion_sort(list1))"
   ]
  },
  {
   "cell_type": "code",
   "execution_count": 69,
   "metadata": {},
   "outputs": [],
   "source": [
    "from collections import deque\n",
    "\n",
    "def merge_sort(arr):\n",
    "    def divide(_arr):\n",
    "        n = len(_arr)\n",
    "        if n == 1:\n",
    "            return _arr\n",
    "        else:\n",
    "            return [divide(_arr[:n // 2 + n % 2]), divide(_arr[n // 2 + n % 2:])]\n",
    "    \n",
    "    def conquer(_arr):\n",
    "        if len(_arr) == 1:\n",
    "            return _arr\n",
    "        elif len(_arr) == 2 and type(_arr[0][0]) == int:\n",
    "            queue1, queue2 = deque(_arr[0]), deque(_arr[1])\n",
    "            ret = []\n",
    "            while len(queue1) != 0 and len(queue2) != 0:\n",
    "                if queue1[0] > queue2[0]:\n",
    "                    ret.append(queue2.popleft())\n",
    "                else:\n",
    "                    ret.append(queue1.popleft())\n",
    "            while len(queue1) != 0:\n",
    "                ret.append(queue1.popleft())\n",
    "            while len(queue2) != 0:\n",
    "                ret.append(queue2.popleft())\n",
    "            return ret\n",
    "        else:\n",
    "            return conquer([conquer(_arr[0]), conquer(_arr[1])])\n",
    "    \n",
    "    arr = divide(arr)\n",
    "    arr = conquer(arr)\n",
    "    return arr\n",
    "\n",
    "n = int(input()); list1 = []; [list1.append(int(input())) for i in range(n)]; [print(i) for i in merge_sort(list1)];"
   ]
  },
  {
   "cell_type": "code",
   "execution_count": 70,
   "metadata": {},
   "outputs": [
    {
     "output_type": "execute_result",
     "data": {
      "text/plain": [
       "[1, 1, 2, 2, 3, 3, 4, 5, 5, 6, 6]"
      ]
     },
     "metadata": {},
     "execution_count": 70
    }
   ],
   "source": [
    "merge_sort([2, 1, 3, 4, 5, 6, 1, 2, 3, 5, 6])"
   ]
  },
  {
   "cell_type": "code",
   "execution_count": 111,
   "metadata": {},
   "outputs": [
    {
     "output_type": "execute_result",
     "data": {
      "text/plain": [
       "[[14.152889966964722,\n",
       "  14.606630802154541,\n",
       "  13.996978521347046,\n",
       "  13.783123970031738,\n",
       "  13.747102975845337,\n",
       "  13.961999654769897,\n",
       "  13.76811146736145,\n",
       "  13.857060670852661,\n",
       "  14.736556053161621,\n",
       "  14.702575922012329,\n",
       "  14.5776686668396,\n",
       "  14.652583837509155,\n",
       "  14.033979654312134,\n",
       "  16.505521774291992,\n",
       "  20.372328281402588,\n",
       "  18.645318508148193,\n",
       "  19.347932815551758,\n",
       "  20.621164321899414,\n",
       "  19.005110263824463,\n",
       "  18.762250423431396,\n",
       "  16.68144130706787,\n",
       "  19.627755165100098,\n",
       "  17.56194019317627,\n",
       "  22.371626615524292,\n",
       "  22.580060720443726,\n",
       "  14.800520181655884,\n",
       "  14.804517984390259,\n",
       "  14.17889666557312,\n",
       "  15.008379459381104,\n",
       "  14.26782488822937],\n",
       " [5.644766330718994,\n",
       "  7.489709138870239,\n",
       "  5.237020254135132,\n",
       "  6.3073859214782715,\n",
       "  5.790661096572876,\n",
       "  6.054530620574951,\n",
       "  5.360929489135742,\n",
       "  5.774691343307495,\n",
       "  5.596792459487915,\n",
       "  5.789681911468506,\n",
       "  5.403903961181641,\n",
       "  5.491854667663574,\n",
       "  5.38191556930542,\n",
       "  6.509270429611206,\n",
       "  6.850075960159302,\n",
       "  5.494852304458618,\n",
       "  6.253415822982788,\n",
       "  7.044964075088501,\n",
       "  6.145481586456299,\n",
       "  7.894473552703857,\n",
       "  6.770123481750488,\n",
       "  5.551817178726196,\n",
       "  5.474882364273071,\n",
       "  5.32295036315918,\n",
       "  5.226985216140747,\n",
       "  5.227003335952759,\n",
       "  5.356932640075684,\n",
       "  5.573806524276733,\n",
       "  5.970577716827393,\n",
       "  5.136078119277954],\n",
       " [10.206130743026733,\n",
       "  10.161179304122925,\n",
       "  10.16717529296875,\n",
       "  10.354066371917725,\n",
       "  10.25412368774414,\n",
       "  10.23114013671875,\n",
       "  10.275110960006714,\n",
       "  10.641902446746826,\n",
       "  10.23413634300232,\n",
       "  10.252147436141968,\n",
       "  10.597908020019531,\n",
       "  10.308094024658203,\n",
       "  10.343071460723877,\n",
       "  10.713863849639893,\n",
       "  10.71985650062561,\n",
       "  10.22614073753357,\n",
       "  10.977710008621216,\n",
       "  10.24513030052185,\n",
       "  11.176595449447632,\n",
       "  10.209151983261108,\n",
       "  11.077651262283325,\n",
       "  11.334506511688232,\n",
       "  10.916744947433472,\n",
       "  10.763833284378052,\n",
       "  11.308521032333374,\n",
       "  10.801811456680298,\n",
       "  10.567942380905151,\n",
       "  10.971713781356812,\n",
       "  10.713860988616943,\n",
       "  10.949727058410645],\n",
       " [0.11093759536743164,\n",
       "  0.09694314002990723,\n",
       "  0.10893940925598145,\n",
       "  0.1868913173675537,\n",
       "  0.09894561767578125,\n",
       "  0.10193896293640137,\n",
       "  0.09494590759277344,\n",
       "  0.18989109992980957,\n",
       "  0.09494614601135254,\n",
       "  0.09294581413269043,\n",
       "  0.11093974113464355,\n",
       "  0.09894013404846191,\n",
       "  0.18491530418395996,\n",
       "  0.0989236831665039,\n",
       "  0.10695862770080566,\n",
       "  0.09294605255126953,\n",
       "  0.09892439842224121,\n",
       "  0.1759178638458252,\n",
       "  0.0969245433807373,\n",
       "  0.11693167686462402,\n",
       "  0.09894442558288574,\n",
       "  0.10194230079650879,\n",
       "  0.18289494514465332,\n",
       "  0.08894896507263184,\n",
       "  0.09794378280639648,\n",
       "  0.09494519233703613,\n",
       "  0.1779003143310547,\n",
       "  0.10193896293640137,\n",
       "  0.10094332695007324,\n",
       "  0.09296655654907227]]"
      ]
     },
     "metadata": {},
     "execution_count": 111
    }
   ],
   "source": [
    "from collections import deque\n",
    "import random\n",
    "import time\n",
    "n = 10000\n",
    "m = 100000\n",
    "\n",
    "class random_test:\n",
    "    def __init__(self, max_int, len_list, test_num):\n",
    "        self.max_int = max_int\n",
    "        self.len_list = len_list\n",
    "        self.test_num = test_num\n",
    "        self.random_list = []\n",
    "        for i in range(self.test_num):\n",
    "            vol_list = []\n",
    "            for j in range(self.len_list):\n",
    "                vol_list.append(random.randint(0, self.max_int))\n",
    "            self.random_list.append(vol_list)\n",
    "    def test_time(self, *args):\n",
    "        time_res = []\n",
    "        for func in args:\n",
    "            vol_res = []\n",
    "            for vol_list in self.random_list:\n",
    "                timer = time.time()\n",
    "                func(vol_list)\n",
    "                vol_res.append(time.time() - timer)\n",
    "            time_res.append(vol_res)\n",
    "        return time_res\n",
    "\n",
    "def bouble_sort(arr):\n",
    "    ret = [] + arr\n",
    "    for i in range(len(ret) - 1):\n",
    "        for j in range(len(ret) - 1 - i):\n",
    "            if ret[j + 1] < ret[j]:\n",
    "                ret[j + 1], ret[j] = ret[j], ret[j + 1]\n",
    "    return ret\n",
    "\n",
    "def selection_sort(arr):\n",
    "    ret = [] + arr\n",
    "    for i in range(len(ret) - 1):\n",
    "        m = i\n",
    "        for j in range(1 + i, len(ret)):\n",
    "            if ret[j] < ret[m]:\n",
    "                m = j\n",
    "        ret[m], ret[i] = ret[i], ret[m]\n",
    "    return ret\n",
    "\n",
    "def insertion_sort(arr):\n",
    "    ret = [] + arr\n",
    "    for i in range(len(ret) - 1):\n",
    "        for j in range(i + 1, 0, -1):\n",
    "            if ret[j] < ret[j - 1]:\n",
    "                ret[j], ret[j - 1] = ret[j - 1], ret[j]\n",
    "            else:\n",
    "                break\n",
    "    return ret\n",
    "\n",
    "def merge_sort(arr):\n",
    "    def divide(_arr):\n",
    "        n = len(_arr)\n",
    "        if n == 1:\n",
    "            return _arr\n",
    "        else:\n",
    "            return [divide(_arr[:n // 2 + n % 2]), divide(_arr[n // 2 + n % 2:])]\n",
    "    \n",
    "    def conquer(_arr):\n",
    "        if len(_arr) == 1:\n",
    "            return _arr\n",
    "        elif len(_arr) == 2 and type(_arr[0][0]) == int:\n",
    "            queue1, queue2 = deque(_arr[0]), deque(_arr[1])\n",
    "            ret = []\n",
    "            while len(queue1) != 0 and len(queue2) != 0:\n",
    "                if queue1[0] > queue2[0]:\n",
    "                    ret.append(queue2.popleft())\n",
    "                else:\n",
    "                    ret.append(queue1.popleft())\n",
    "            while len(queue1) != 0:\n",
    "                ret.append(queue1.popleft())\n",
    "            while len(queue2) != 0:\n",
    "                ret.append(queue2.popleft())\n",
    "            return ret\n",
    "        else:\n",
    "            return conquer([conquer(_arr[0]), conquer(_arr[1])])\n",
    "    \n",
    "    arr = divide(arr)\n",
    "    arr = conquer(arr)\n",
    "    return arr\n",
    "\n",
    "test = random_test(m, n, 30)\n",
    "test.test_time(bouble_sort, selection_sort, insertion_sort, merge_sort)"
   ]
  },
  {
   "cell_type": "code",
   "execution_count": 5,
   "metadata": {},
   "outputs": [],
   "source": [
    "def merge_sort(arr):\n",
    "    def divide(_arr):\n",
    "        n = len(_arr)\n",
    "        if n == 1:\n",
    "            return _arr\n",
    "        else:\n",
    "            return [divide(_arr[:n // 2 + n % 2]), divide(_arr[n // 2 + n % 2:])]\n",
    "    \n",
    "    def conquer(_arr):\n",
    "        if len(_arr) == 1:\n",
    "            return _arr\n",
    "        elif len(_arr) == 2 and type(_arr[0][0]) == int:\n",
    "            i, j = 0, 0\n",
    "            ret = []\n",
    "            while (i < len(_arr[0])) and (j < len(_arr[1])):\n",
    "                if _arr[0][i] < _arr[1][j]:\n",
    "                    ret.append(_arr[0][i]); i += 1\n",
    "                else:\n",
    "                    ret.append(_arr[1][j]); j += 1\n",
    "            while i < len(_arr[0]):\n",
    "                ret.append(_arr[0][i]); i += 1\n",
    "            while j < len(_arr[1]):\n",
    "                ret.append(_arr[1][j]); j += 1\n",
    "            return ret\n",
    "        else:\n",
    "            return conquer([conquer(_arr[0]), conquer(_arr[1])])\n",
    "    arr = divide(arr)\n",
    "    arr = conquer(arr)\n",
    "    return arr\n",
    "\n",
    "n = int(input()); list1 = []; [list1.append(int(input())) for i in range(n)]; [print(i) for i in merge_sort(list1)];"
   ]
  },
  {
   "cell_type": "code",
   "execution_count": 6,
   "metadata": {},
   "outputs": [
    {
     "output_type": "stream",
     "name": "stdout",
     "text": [
      "[1, 1, 2, 2, 3, 3, 4, 5, 5, 6, 6]\n"
     ]
    }
   ],
   "source": [
    "print(merge_sort([2, 1, 3, 4, 5, 6, 1, 2, 3, 5, 6]))"
   ]
  },
  {
   "cell_type": "code",
   "execution_count": null,
   "metadata": {},
   "outputs": [],
   "source": [
    "def mergeSort(myList):\n",
    "    if len(myList) > 1:\n",
    "        mid = len(myList) // 2\n",
    "        left = myList[:mid]\n",
    "        right = myList[mid:]\n",
    "\n",
    "        mergeSort(left)\n",
    "        mergeSort(right)\n",
    "\n",
    "        i = 0\n",
    "        j = 0\n",
    "        k = 0\n",
    "        \n",
    "        while i < len(left) and j < len(right):\n",
    "            if left[i] < right[j]:\n",
    "              myList[k] = left[i]\n",
    "              i += 1\n",
    "            else:\n",
    "                myList[k] = right[j]\n",
    "                j += 1\n",
    "            k += 1\n",
    "\n",
    "        while i < len(left):\n",
    "            myList[k] = left[i]\n",
    "            i += 1\n",
    "            k += 1\n",
    "\n",
    "        while j < len(right):\n",
    "            myList[k]=right[j]\n",
    "            j += 1\n",
    "            k += 1\n",
    "            \n",
    "myList = [54,26,93,17,77,31,44,55,20]\n",
    "mergeSort(myList)\n",
    "print(myList)"
   ]
  },
  {
   "cell_type": "code",
   "execution_count": null,
   "metadata": {},
   "outputs": [],
   "source": []
  }
 ]
}