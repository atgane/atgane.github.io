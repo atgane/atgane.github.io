{
 "metadata": {
  "language_info": {
   "codemirror_mode": {
    "name": "ipython",
    "version": 3
   },
   "file_extension": ".py",
   "mimetype": "text/x-python",
   "name": "python",
   "nbconvert_exporter": "python",
   "pygments_lexer": "ipython3",
   "version": "3.7.6-final"
  },
  "orig_nbformat": 2,
  "kernelspec": {
   "name": "python3",
   "display_name": "Python 3",
   "language": "python"
  }
 },
 "nbformat": 4,
 "nbformat_minor": 2,
 "cells": [
  {
   "cell_type": "code",
   "execution_count": 12,
   "metadata": {},
   "outputs": [
    {
     "output_type": "stream",
     "name": "stdout",
     "text": [
      "0\n",
      "2\n",
      "4\n",
      "6\n"
     ]
    }
   ],
   "source": [
    "n = int(input())\n",
    "seq = list(map(int, input().split()))\n",
    "\n",
    "diff_seq = []\n",
    "\n",
    "for i in range(n):\n",
    "    if i == 0:\n",
    "        diff_seq.append(0)\n",
    "    else:\n",
    "        if seq[i] != seq[i - 1]:\n",
    "            diff_seq.append(True)\n",
    "        else:\n",
    "            diff_seq.append(False)\n",
    "\n",
    "sum_seq = [0]\n",
    "\n",
    "for i in seq:\n",
    "    sum_seq.append(sum_seq[-1] + i)\n",
    "\n",
    "q_num = int(input())\n",
    "\n",
    "for _ in range(q_num):\n",
    "    i, j = list(map(int, input().split()))\n",
    "    diff_s = diff_seq[i - 1: j]\n",
    "    if 1 in diff_s:\n",
    "        sum_s = sum_seq[i - 1:j + 1]\n",
    "        rev_s = list(reversed(sum_s))\n",
    "        all_num = list(set(sum_s))\n",
    "        m = []\n",
    "        for k in all_num:\n",
    "            m.append(j - i + 1 - sum_s.index(k) - rev_s.index(k))\n",
    "        print(max(m))\n",
    "    else:\n",
    "        print(0)"
   ]
  },
  {
   "cell_type": "code",
   "execution_count": null,
   "metadata": {},
   "outputs": [],
   "source": [
    "import sys\n",
    "n = int(sys.stdin.readline())\n",
    "seq = list(map(int, sys.stdin.readline().split()))\n",
    "\n",
    "diff_seq = []\n",
    "\n",
    "for i in range(n):\n",
    "    if i == 0:\n",
    "        diff_seq.append(0)\n",
    "    else:\n",
    "        if seq[i] != seq[i - 1]:\n",
    "            diff_seq.append(True)\n",
    "        else:\n",
    "            diff_seq.append(False)\n",
    "\n",
    "sum_seq = [0]\n",
    "\n",
    "for i in seq:\n",
    "    sum_seq.append(sum_seq[-1] + i)\n",
    "\n",
    "q_num = int(sys.stdin.readline())\n",
    "\n",
    "for _ in range(q_num):\n",
    "    i, j = list(map(int, sys.stdin.readline().split()))\n",
    "    diff_s = diff_seq[i - 1: j]\n",
    "    if 1 in diff_s:\n",
    "        sum_s = sum_seq[i - 1:j + 1]\n",
    "        rev_s = list(reversed(sum_s))\n",
    "        all_num = list(set(sum_s))\n",
    "        m = []\n",
    "        for k in all_num:\n",
    "            m.append(j - i + 1 - sum_s.index(k) - rev_s.index(k))\n",
    "        print(max(m))\n",
    "    else:\n",
    "        print(0)"
   ]
  }
 ]
}