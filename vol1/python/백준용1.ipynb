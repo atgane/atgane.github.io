{
 "metadata": {
  "language_info": {
   "codemirror_mode": {
    "name": "ipython",
    "version": 3
   },
   "file_extension": ".py",
   "mimetype": "text/x-python",
   "name": "python",
   "nbconvert_exporter": "python",
   "pygments_lexer": "ipython3",
   "version": "3.7.6-final"
  },
  "orig_nbformat": 2,
  "kernelspec": {
   "name": "python3",
   "display_name": "Python 3",
   "language": "python"
  }
 },
 "nbformat": 4,
 "nbformat_minor": 2,
 "cells": [
  {
   "cell_type": "code",
   "execution_count": 4,
   "metadata": {},
   "outputs": [
    {
     "output_type": "stream",
     "name": "stdout",
     "text": [
      "[0, 1, 2, 3, 2, 1, 0]\n"
     ]
    }
   ],
   "source": [
    "num = int(input())\n",
    "seq = list(map(int, input().split()))\n",
    "\n",
    "sum_seq = [0]\n",
    "\n",
    "for i in seq:\n",
    "    sum_seq.append(sum_seq[-1] + i)\n",
    "\n",
    "print(sum_seq)\n",
    "\n",
    "q_num = int(input())\n",
    "for _ in range(q_num):\n",
    "    i, j = list(map(int, input().split()))\n",
    "    s = sum_seq[i - 1:j]\n",
    "    m = []\n",
    "\n",
    "    p = len(s)\n",
    "    for k in range(p):\n",
    "        if s[p - 1 - k] != s.index(s[p - 1 - k]):\n",
    "            "
   ]
  },
  {
   "cell_type": "code",
   "execution_count": 5,
   "metadata": {},
   "outputs": [
    {
     "output_type": "execute_result",
     "data": {
      "text/plain": [
       "[1, 1, 1, -1, -1, -1]"
      ]
     },
     "metadata": {},
     "execution_count": 5
    }
   ],
   "source": [
    "seq"
   ]
  },
  {
   "cell_type": "code",
   "execution_count": null,
   "metadata": {},
   "outputs": [],
   "source": [
    "q_num = int(input())\n",
    "for _ in range(q_num):"
   ]
  },
  {
   "cell_type": "code",
   "execution_count": 7,
   "metadata": {},
   "outputs": [
    {
     "output_type": "stream",
     "name": "stdout",
     "text": [
      "1\n"
     ]
    }
   ],
   "source": [
    "aaaaa = [1, 2, 3, 4, 5, 3, 2, 1]\n",
    "print(aaaaa.index(2))"
   ]
  },
  {
   "cell_type": "code",
   "execution_count": null,
   "metadata": {},
   "outputs": [],
   "source": []
  }
 ]
}