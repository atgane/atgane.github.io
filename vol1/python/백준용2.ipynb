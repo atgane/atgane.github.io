{
 "metadata": {
  "language_info": {
   "codemirror_mode": {
    "name": "ipython",
    "version": 3
   },
   "file_extension": ".py",
   "mimetype": "text/x-python",
   "name": "python",
   "nbconvert_exporter": "python",
   "pygments_lexer": "ipython3",
   "version": "3.7.6-final"
  },
  "orig_nbformat": 2,
  "kernelspec": {
   "name": "python3",
   "display_name": "Python 3",
   "language": "python"
  }
 },
 "nbformat": 4,
 "nbformat_minor": 2,
 "cells": [
  {
   "cell_type": "code",
   "execution_count": null,
   "metadata": {},
   "outputs": [],
   "source": [
    "all(1,)"
   ]
  },
  {
   "cell_type": "code",
   "execution_count": 164,
   "metadata": {},
   "outputs": [],
   "source": [
    "class heap:\n",
    "    def __init__(self):\n",
    "        self.data = []\n",
    "    def insert(self, ins):\n",
    "        if len(self.data) == 0:\n",
    "            self.data.append(ins)\n",
    "        else:\n",
    "            self.data = [ins] + self.data\n",
    "            cur = len(self.data)\n",
    "            while cur != 1:\n",
    "                if self.data[-cur] > self.data[-(cur // 2)]:\n",
    "                    self.data[-cur], self.data[-(cur // 2)] = self.data[-(cur // 2)], self.data[-cur]\n",
    "                    cur = cur // 2\n",
    "                else:\n",
    "                    break\n",
    "                \n",
    "    def pop(self):\n",
    "        ret = self.data.pop()\n",
    "        if len(self.data) > 0:\n",
    "            self.data.append(self.data[0])\n",
    "            self.data = self.data[1:]\n",
    "            cur = 1\n",
    "            while True:\n",
    "                if cur * 2 + 1 <= len(self.data):\n",
    "                    if self.data[-cur] <= self.data[-(cur * 2 + 1)] and self.data[-(cur * 2)] <= self.data[-(cur * 2 + 1)]:\n",
    "                        self.data[-cur], self.data[-(cur * 2 + 1)] = self.data[-(cur * 2 + 1)], self.data[-cur]\n",
    "                        cur = cur * 2 + 1\n",
    "                    elif self.data[-cur] <= self.data[-(cur * 2)] and self.data[-(cur * 2 + 1)] <= self.data[-(cur * 2)]:\n",
    "                        self.data[-cur], self.data[-(cur * 2)] = self.data[-(cur * 2)], self.data[-cur]\n",
    "                        cur = cur * 2\n",
    "                    else:\n",
    "                        break\n",
    "                elif cur * 2 <= len(self.data):\n",
    "                    if self.data[-cur] < self.data[-(cur * 2)]:\n",
    "                        self.data[-cur], self.data[-(cur * 2)] = self.data[-(cur * 2)], self.data[-cur]\n",
    "                        cur = cur * 2\n",
    "                    else:\n",
    "                        break\n",
    "                else:\n",
    "                    break\n",
    "        return ret\n",
    "\n",
    "def heap_sort(arr):\n",
    "    ret = []\n",
    "    h = heap()\n",
    "    for i in arr:\n",
    "        h.insert(i)\n",
    "    for _ in range(len(h.data)):\n",
    "        ret = [h.pop()] + ret\n",
    "    return ret\n",
    "\n",
    "n = int(input()); list1 = []; [list1.append(int(input())) for i in range(n)]; [print(i) for i in heap_sort(list1)];"
   ]
  },
  {
   "cell_type": "code",
   "execution_count": 169,
   "metadata": {},
   "outputs": [],
   "source": [
    "import heapq\n",
    "\n",
    "def heap_sort(arr):\n",
    "    heap = []\n",
    "    ret = []\n",
    "    for i in arr:\n",
    "        heapq.heappush(heap, i)\n",
    "\n",
    "    for _ in range(len(arr)):\n",
    "        ret.append(heapq.heappop(heap))\n",
    "    return ret\n",
    "\n",
    "n = int(input()); list1 = []; [list1.append(int(input())) for i in range(n)]; [print(i) for i in heap_sort(list1)];"
   ]
  },
  {
   "cell_type": "code",
   "execution_count": 11,
   "metadata": {},
   "outputs": [],
   "source": [
    "def quick_sort(arr):\n",
    "    if len(arr) <= 1:\n",
    "        return arr\n",
    "    else:\n",
    "        pv = arr[len(arr) // 2]\n",
    "        low = []\n",
    "        high = []\n",
    "        eq = []\n",
    "        for i in arr:\n",
    "            if i < pv:\n",
    "                low.append(i)\n",
    "            elif i > pv:\n",
    "                high.append(i)\n",
    "            else:\n",
    "                eq.append(i)\n",
    "        return quick_sort(low) + eq + quick_sort(high)"
   ]
  },
  {
   "cell_type": "code",
   "execution_count": 12,
   "metadata": {},
   "outputs": [
    {
     "output_type": "error",
     "ename": "ValueError",
     "evalue": "invalid literal for int() with base 10: ''",
     "traceback": [
      "\u001b[1;31m---------------------------------------------------------------------------\u001b[0m",
      "\u001b[1;31mValueError\u001b[0m                                Traceback (most recent call last)",
      "\u001b[1;32m<ipython-input-12-3339cbb2c31d>\u001b[0m in \u001b[0;36m<module>\u001b[1;34m\u001b[0m\n\u001b[0;32m     52\u001b[0m     \u001b[1;32mreturn\u001b[0m \u001b[0mret\u001b[0m\u001b[1;33m\u001b[0m\u001b[1;33m\u001b[0m\u001b[0m\n\u001b[0;32m     53\u001b[0m \u001b[1;33m\u001b[0m\u001b[0m\n\u001b[1;32m---> 54\u001b[1;33m \u001b[0mn\u001b[0m \u001b[1;33m=\u001b[0m \u001b[0mint\u001b[0m\u001b[1;33m(\u001b[0m\u001b[0msys\u001b[0m\u001b[1;33m.\u001b[0m\u001b[0mstdin\u001b[0m\u001b[1;33m.\u001b[0m\u001b[0mreadline\u001b[0m\u001b[1;33m(\u001b[0m\u001b[1;33m)\u001b[0m\u001b[1;33m)\u001b[0m\u001b[1;33m\u001b[0m\u001b[1;33m\u001b[0m\u001b[0m\n\u001b[0m\u001b[0;32m     55\u001b[0m \u001b[0mn\u001b[0m \u001b[1;33m=\u001b[0m \u001b[0mint\u001b[0m\u001b[1;33m(\u001b[0m\u001b[0minput\u001b[0m\u001b[1;33m(\u001b[0m\u001b[1;33m)\u001b[0m\u001b[1;33m)\u001b[0m\u001b[1;33m;\u001b[0m \u001b[0mlist1\u001b[0m \u001b[1;33m=\u001b[0m \u001b[1;33m[\u001b[0m\u001b[1;33m]\u001b[0m\u001b[1;33m;\u001b[0m \u001b[1;33m[\u001b[0m\u001b[0mlist1\u001b[0m\u001b[1;33m.\u001b[0m\u001b[0mappend\u001b[0m\u001b[1;33m(\u001b[0m\u001b[0mint\u001b[0m\u001b[1;33m(\u001b[0m\u001b[0minput\u001b[0m\u001b[1;33m(\u001b[0m\u001b[1;33m)\u001b[0m\u001b[1;33m)\u001b[0m\u001b[1;33m)\u001b[0m \u001b[1;32mfor\u001b[0m \u001b[0mi\u001b[0m \u001b[1;32min\u001b[0m \u001b[0mrange\u001b[0m\u001b[1;33m(\u001b[0m\u001b[0mn\u001b[0m\u001b[1;33m)\u001b[0m\u001b[1;33m]\u001b[0m\u001b[1;33m;\u001b[0m \u001b[1;33m[\u001b[0m\u001b[0mprint\u001b[0m\u001b[1;33m(\u001b[0m\u001b[0mi\u001b[0m\u001b[1;33m)\u001b[0m \u001b[1;32mfor\u001b[0m \u001b[0mi\u001b[0m \u001b[1;32min\u001b[0m \u001b[0mheap_sort\u001b[0m\u001b[1;33m(\u001b[0m\u001b[0mlist1\u001b[0m\u001b[1;33m)\u001b[0m\u001b[1;33m]\u001b[0m\u001b[1;33m;\u001b[0m\u001b[1;33m\u001b[0m\u001b[1;33m\u001b[0m\u001b[0m\n",
      "\u001b[1;31mValueError\u001b[0m: invalid literal for int() with base 10: ''"
     ]
    }
   ],
   "source": [
    "import sys\n",
    "\n",
    "class heap:\n",
    "    def __init__(self):\n",
    "        self.data = []\n",
    "    def insert(self, ins):\n",
    "        if len(self.data) == 0:\n",
    "            self.data.append(ins)\n",
    "        else:\n",
    "            self.data = [ins] + self.data\n",
    "            cur = len(self.data)\n",
    "            while cur != 1:\n",
    "                if self.data[-cur] > self.data[-(cur // 2)]:\n",
    "                    self.data[-cur], self.data[-(cur // 2)] = self.data[-(cur // 2)], self.data[-cur]\n",
    "                    cur = cur // 2\n",
    "                else:\n",
    "                    break\n",
    "                \n",
    "    def pop(self):\n",
    "        ret = self.data.pop()\n",
    "        if len(self.data) > 0:\n",
    "            self.data.append(self.data[0])\n",
    "            self.data = self.data[1:]\n",
    "            cur = 1\n",
    "            while True:\n",
    "                if cur * 2 + 1 <= len(self.data):\n",
    "                    if self.data[-cur] <= self.data[-(cur * 2 + 1)] and self.data[-(cur * 2)] <= self.data[-(cur * 2 + 1)]:\n",
    "                        self.data[-cur], self.data[-(cur * 2 + 1)] = self.data[-(cur * 2 + 1)], self.data[-cur]\n",
    "                        cur = cur * 2 + 1\n",
    "                    elif self.data[-cur] <= self.data[-(cur * 2)] and self.data[-(cur * 2 + 1)] <= self.data[-(cur * 2)]:\n",
    "                        self.data[-cur], self.data[-(cur * 2)] = self.data[-(cur * 2)], self.data[-cur]\n",
    "                        cur = cur * 2\n",
    "                    else:\n",
    "                        break\n",
    "                elif cur * 2 <= len(self.data):\n",
    "                    if self.data[-cur] < self.data[-(cur * 2)]:\n",
    "                        self.data[-cur], self.data[-(cur * 2)] = self.data[-(cur * 2)], self.data[-cur]\n",
    "                        cur = cur * 2\n",
    "                    else:\n",
    "                        break\n",
    "                else:\n",
    "                    break\n",
    "        return ret\n",
    "\n",
    "def heap_sort(arr):\n",
    "    ret = []\n",
    "    h = heap()\n",
    "    for i in arr:\n",
    "        h.insert(i)\n",
    "    for _ in range(len(h.data)):\n",
    "        ret = [h.pop()] + ret\n",
    "    return ret\n",
    "\n",
    "n = int(sys.stdin.readline())\n",
    "arr = []\n",
    "for i in range(n):\n",
    "    arr.append(sys.stdin.readline())\n",
    "\n",
    "for i in heap_sort(arr):\n",
    "    print(i)"
   ]
  },
  {
   "cell_type": "code",
   "execution_count": 13,
   "metadata": {},
   "outputs": [
    {
     "output_type": "stream",
     "name": "stdout",
     "text": [
      "[1, 2, 2, 2, 2, 2, 2, 2, 3, 4, 5, 6, 7, 8, 9, 10]\n"
     ]
    }
   ],
   "source": [
    "import sys\n",
    "\n",
    "def merge_sort(arr):\n",
    "    def divide(_arr):\n",
    "        n = len(_arr)\n",
    "        if n == 1:\n",
    "            return _arr\n",
    "        else:\n",
    "            return [divide(_arr[:n // 2 + n % 2]), divide(_arr[n // 2 + n % 2:])]\n",
    "    \n",
    "    def conquer(_arr):\n",
    "        if len(_arr) == 1:\n",
    "            return _arr\n",
    "        elif len(_arr) == 2 and type(_arr[0][0]) == int:\n",
    "            i, j = 0, 0\n",
    "            ret = []\n",
    "            while (i < len(_arr[0])) and (j < len(_arr[1])):\n",
    "                if _arr[0][i] < _arr[1][j]:\n",
    "                    ret.append(_arr[0][i]); i += 1\n",
    "                else:\n",
    "                    ret.append(_arr[1][j]); j += 1\n",
    "            while i < len(_arr[0]):\n",
    "                ret.append(_arr[0][i]); i += 1\n",
    "            while j < len(_arr[1]):\n",
    "                ret.append(_arr[1][j]); j += 1\n",
    "            return ret\n",
    "        else:\n",
    "            return conquer([conquer(_arr[0]), conquer(_arr[1])])\n",
    "    arr = divide(arr)\n",
    "    arr = conquer(arr)\n",
    "    return arr\n",
    "\n",
    "n = int(sys.stdin.readline())\n",
    "arr = []\n",
    "for i in range(n):\n",
    "    arr.append(int(sys.stdin.readline()))\n",
    "\n",
    "for i in merge_sort(arr):\n",
    "    print(i)"
   ]
  },
  {
   "cell_type": "code",
   "execution_count": null,
   "metadata": {},
   "outputs": [],
   "source": [
    "def quick_sort(arr):\n",
    "    arr = [arr]\n",
    "    ret = []\n",
    "    def divide(_arr):\n",
    "        if len(_arr[0]) <= 1:\n",
    "            return _arr\n",
    "        else:\n",
    "            pv = _arr[0][]"
   ]
  },
  {
   "cell_type": "code",
   "execution_count": 18,
   "metadata": {},
   "outputs": [],
   "source": [
    "import sys\n",
    "\n",
    "def counting_sort(arr):\n",
    "    ret = []\n",
    "    st = 1; end = 10000 #최소 원소, 최대 원소\n",
    "    count_table = []\n",
    "    for i in range(st, end + 1):\n",
    "        for j in arr:\n",
    "            if i == j:\n",
    "                ret.append(i)\n",
    "    return ret\n",
    "\n",
    "n = int(sys.stdin.readline())\n",
    "arr = []\n",
    "for i in range(n):\n",
    "    arr.append(int(sys.stdin.readline()))\n",
    "\n",
    "for i in counting_sort(arr):\n",
    "    print(i)"
   ]
  },
  {
   "cell_type": "code",
   "execution_count": 27,
   "metadata": {},
   "outputs": [
    {
     "output_type": "stream",
     "name": "stdout",
     "text": [
      "1\n2\n3\n"
     ]
    }
   ],
   "source": [
    "import sys\n",
    "n = int(sys.stdin.readline())\n",
    "c = [0] * 10001\n",
    "for _ in range(n):\n",
    "    c[int(sys.stdin.readline())] += 1\n",
    "for i in range(10001):\n",
    "    [print(i + 1) for _ in range(c[i])]"
   ]
  },
  {
   "cell_type": "code",
   "execution_count": 20,
   "metadata": {},
   "outputs": [
    {
     "output_type": "stream",
     "name": "stdout",
     "text": [
      "[None]\n"
     ]
    }
   ],
   "source": [
    "import sys\n",
    "a = int(sys.stdin.readline())\n",
    "c = [0] * 10001\n",
    "\n",
    "for i in range(a):\n",
    "    c[int(sys.stdin.readline())] += 1\n",
    "\n",
    "for i in range(10001):\n",
    "    if c[i] != 0:\n",
    "        print('%s\\n' % i * c[i], end=\"\")"
   ]
  },
  {
   "cell_type": "code",
   "execution_count": null,
   "metadata": {},
   "outputs": [],
   "source": [
    "import sys\n",
    "\n",
    "n = int(sys.stdin.readline())\n",
    "arr = []\n",
    "for i in range(n):\n",
    "    arr.append(int(sys.stdin.readline()))\n",
    "arr.sort()\n",
    "ave = round(sum(arr) / len(arr))\n",
    "mid = arr[len(arr) // 2]\n"
   ]
  }
 ]
}