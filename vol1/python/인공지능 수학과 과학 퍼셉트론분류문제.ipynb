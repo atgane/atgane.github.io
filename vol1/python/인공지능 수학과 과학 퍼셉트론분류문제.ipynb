{
 "cells": [
  {
   "cell_type": "code",
   "execution_count": 18,
   "metadata": {},
   "outputs": [
    {
     "name": "stdout",
     "output_type": "stream",
     "text": [
      "[-11.   4.   5.]\n",
      "[-12.   0.   5.]\n",
      "[-11.   2.   7.]\n",
      "[-11.   2.   7.]\n"
     ]
    }
   ],
   "source": [
    "import numpy as np\n",
    "\n",
    "alpha = 0.5\n",
    "\n",
    "X = np.array([[1, 1, 0], \n",
    "             [1, 2, -1], \n",
    "             [1, 4, 0], \n",
    "             [1, 2, 2], \n",
    "             [1, 3, 3]], dtype=np.float64)\n",
    "\n",
    "Y = np.array([-1, -1, -1, 1, 1], dtype=np.float64)\n",
    "\n",
    "w = np.array([-12, 2, 3], dtype=np.float64)\n",
    "\n",
    "n = 4\n",
    "\n",
    "for i in range(n):\n",
    "    w -= alpha * np.dot((np.sign(np.dot(X, w)) - Y), X)\n",
    "    print(w)"
   ]
  }
 ],
 "metadata": {
  "kernelspec": {
   "display_name": "Python 3",
   "language": "python",
   "name": "python3"
  },
  "language_info": {
   "codemirror_mode": {
    "name": "ipython",
    "version": 3
   },
   "file_extension": ".py",
   "mimetype": "text/x-python",
   "name": "python",
   "nbconvert_exporter": "python",
   "pygments_lexer": "ipython3",
   "version": "3.7.6"
  }
 },
 "nbformat": 4,
 "nbformat_minor": 4
}
